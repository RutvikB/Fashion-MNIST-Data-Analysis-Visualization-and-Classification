{
  "nbformat": 4,
  "nbformat_minor": 0,
  "metadata": {
    "colab": {
      "name": "cnn and autoencoder.ipynb",
      "provenance": [],
      "collapsed_sections": [],
      "toc_visible": true,
      "machine_shape": "hm"
    },
    "kernelspec": {
      "name": "python3",
      "display_name": "Python 3"
    },
    "accelerator": "GPU"
  },
  "cells": [
    {
      "cell_type": "markdown",
      "metadata": {
        "id": "AeUngpvr2Hb_",
        "colab_type": "text"
      },
      "source": [
        "# Import Libraries"
      ]
    },
    {
      "cell_type": "code",
      "metadata": {
        "id": "Y6C0PayHQBQ2",
        "colab_type": "code",
        "colab": {
          "base_uri": "https://localhost:8080/",
          "height": 34
        },
        "outputId": "4904cfb2-5006-4024-a574-93c58e2e8751"
      },
      "source": [
        "from google.colab import drive\n",
        "drive.mount('/content/drive')"
      ],
      "execution_count": 2,
      "outputs": [
        {
          "output_type": "stream",
          "text": [
            "Drive already mounted at /content/drive; to attempt to forcibly remount, call drive.mount(\"/content/drive\", force_remount=True).\n"
          ],
          "name": "stdout"
        }
      ]
    },
    {
      "cell_type": "code",
      "metadata": {
        "id": "yUffWfQv2Kmg",
        "colab_type": "code",
        "colab": {
          "base_uri": "https://localhost:8080/",
          "height": 87
        },
        "outputId": "6c69956e-7154-4f44-dae8-364fc2410913"
      },
      "source": [
        "import numpy as np\n",
        "import pandas as pd\n",
        "\n",
        "# Preprocessing and evaluation metrics\n",
        "\n",
        "from sklearn.preprocessing import Normalizer, scale, MinMaxScaler\n",
        "from sklearn.model_selection import train_test_split, cross_val_score\n",
        "from sklearn.metrics import  confusion_matrix, classification_report, accuracy_score\n",
        "from sklearn.metrics import accuracy_score , precision_score, recall_score, f1_score  \n",
        "from sklearn.metrics import mean_squared_log_error, mean_squared_error, mean_absolute_error \n",
        "\n",
        "# Deep Learning libraries\n",
        "\n",
        "import tensorflow as tf\n",
        "from tensorflow.keras.models import Sequential, Model\n",
        "from tensorflow.keras import layers\n",
        "from tensorflow.keras import models\n",
        "from tensorflow.keras import callbacks\n",
        "from tensorflow.keras.models import Sequential, Model\n",
        "from tensorflow.keras.layers import Input, Dense, Dropout, Flatten, Conv2D, MaxPool2D\n",
        "from tensorflow.keras.layers import UpSampling2D, BatchNormalization, GlobalAveragePooling2D\n",
        "from tensorflow.keras.optimizers import Adam, SGD, Adagrad, Adadelta, RMSprop\n",
        "from tensorflow.keras.utils import  to_categorical\n",
        "from tensorflow.keras.callbacks import ReduceLROnPlateau, LearningRateScheduler, EarlyStopping\n",
        "from tensorflow.keras.losses import mean_squared_error, categorical_crossentropy, cosine_similarity\n",
        "from tensorflow.keras.regularizers import l1, l2\n",
        "\n",
        "# For Transfer Learning\n",
        "from keras.applications.resnet_v2 import ResNet50V2\n",
        "from keras.applications.xception import Xception\n",
        "from keras.applications.vgg16 import VGG16\n",
        "from keras.preprocessing import image\n",
        "from keras.preprocessing.image import img_to_array, array_to_img\n",
        "from keras.layers.advanced_activations import LeakyReLU\n",
        "\n",
        "# Visualisation\n",
        "\n",
        "import matplotlib.pyplot as plt\n",
        "import seaborn as sns\n"
      ],
      "execution_count": 3,
      "outputs": [
        {
          "output_type": "stream",
          "text": [
            "Using TensorFlow backend.\n",
            "/usr/local/lib/python3.6/dist-packages/statsmodels/tools/_testing.py:19: FutureWarning: pandas.util.testing is deprecated. Use the functions in the public API at pandas.testing instead.\n",
            "  import pandas.util.testing as tm\n"
          ],
          "name": "stderr"
        }
      ]
    },
    {
      "cell_type": "markdown",
      "metadata": {
        "id": "W-vw4ewS4AXk",
        "colab_type": "text"
      },
      "source": [
        "# Load Dataset"
      ]
    },
    {
      "cell_type": "code",
      "metadata": {
        "id": "WqntTnPfmMxH",
        "colab_type": "code",
        "outputId": "7005593a-76c8-421f-85f3-af9157980bff",
        "colab": {
          "base_uri": "https://localhost:8080/",
          "height": 151
        }
      },
      "source": [
        "# Load Full Dataset\n",
        "\n",
        "train = pd.read_csv('drive/My Drive/RandomProjects/Fashion MNIST/fashion-mnist_train.csv')\n",
        "test = pd.read_csv('drive/My Drive/RandomProjects/Fashion MNIST/fashion-mnist_test.csv')\n",
        "\n",
        "df_train = train.copy()\n",
        "df_test = test.copy()\n",
        "\n",
        "print(\"Original Shape of Train Dataset:\", df_train.shape[0], 'X' , df_train.shape[1])\n",
        "print(\"Original Shape of Test Dataset:\", df_test.shape[0], 'X' , df_test.shape[1])\n",
        "\n",
        "# Seperate ID numbers and target features from train and test dataset\n",
        "\n",
        "train_feat = df_train.iloc[:, 1:]\n",
        "train_lab = df_train.label\n",
        "\n",
        "test_feat = df_test.iloc[:, 1:]\n",
        "test_lab = df_test.label\n",
        "\n",
        "\n",
        "print(\"\\nTrain Features:\", train_feat.shape[0], 'X' , train_feat.shape[1], '\\nTrain Labels:' , train_lab.shape[0], 'X 1')\n",
        "\n",
        "print(\"\\nTest Features:\", test_feat.shape[0], 'X' , test_feat.shape[1], '\\nTest Labels:' , test_lab.shape[0], 'X 1')\n",
        "\n",
        "\n"
      ],
      "execution_count": 4,
      "outputs": [
        {
          "output_type": "stream",
          "text": [
            "Original Shape of Train Dataset: 60000 X 785\n",
            "Original Shape of Test Dataset: 10000 X 785\n",
            "\n",
            "Train Features: 60000 X 784 \n",
            "Train Labels: 60000 X 1\n",
            "\n",
            "Test Features: 10000 X 784 \n",
            "Test Labels: 10000 X 1\n"
          ],
          "name": "stdout"
        }
      ]
    },
    {
      "cell_type": "markdown",
      "metadata": {
        "id": "7Wg7xBOwLzhR",
        "colab_type": "text"
      },
      "source": [
        "# Data Preprocessing"
      ]
    },
    {
      "cell_type": "markdown",
      "metadata": {
        "id": "FtYCroNFMjrj",
        "colab_type": "text"
      },
      "source": [
        "## Reshape the Images\n",
        "\n",
        "* Reshape 1D image vectors into 28X28X1 3D matrices before feeding them to a CNN\n",
        "* Keras wants an extra dimension in end for grayscale images"
      ]
    },
    {
      "cell_type": "code",
      "metadata": {
        "id": "yz2zpd5DJr37",
        "colab_type": "code",
        "outputId": "b85af023-e182-46b1-f6ad-430232cff8b5",
        "colab": {
          "base_uri": "https://localhost:8080/",
          "height": 84
        }
      },
      "source": [
        "# For Built Models\n",
        "train_feat = train_feat.values.reshape((-1, 28, 28, 1))\n",
        "test_feat = test_feat.values.reshape((-1, 28, 28, 1))\n",
        "\n",
        "print(\"\\nShape of Train Features:\", train_feat.shape[0], 'X' , train_feat.shape[1])\n",
        "\n",
        "print(\"\\nShape of Test Features:\", test_feat.shape[0], 'X' , test_feat.shape[1])\n"
      ],
      "execution_count": 5,
      "outputs": [
        {
          "output_type": "stream",
          "text": [
            "\n",
            "Shape of Train Features: 60000 X 28\n",
            "\n",
            "Shape of Test Features: 10000 X 28\n"
          ],
          "name": "stdout"
        }
      ]
    },
    {
      "cell_type": "markdown",
      "metadata": {
        "id": "67W_47AEN95C",
        "colab_type": "text"
      },
      "source": [
        "## Normalize the dataset\n",
        "\n",
        "* Data samples need to be scaled down to [0,1] in order for Optimization Algorithms to work much faster. Here, we also acheive Zero Mean and Unit Variance.\n",
        "\n",
        "* Normalization is carried out as follows: \n",
        "> x = (x - min) / (max - min) ; Here min= 0 and max= 255"
      ]
    },
    {
      "cell_type": "code",
      "metadata": {
        "id": "Hp-FsDBnNyI1",
        "colab_type": "code",
        "colab": {}
      },
      "source": [
        "train_feat = train_feat.astype(\"float32\")/255\n",
        "\n",
        "test_feat = test_feat.astype(\"float32\")/255"
      ],
      "execution_count": 0,
      "outputs": []
    },
    {
      "cell_type": "markdown",
      "metadata": {
        "id": "skXHmibMCcG0",
        "colab_type": "text"
      },
      "source": [
        "## One Hot encoding of target variables"
      ]
    },
    {
      "cell_type": "code",
      "metadata": {
        "id": "J5m0eguiNzU-",
        "colab_type": "code",
        "outputId": "c8129181-f30b-4e79-d8ab-d0a47325a946",
        "colab": {
          "base_uri": "https://localhost:8080/",
          "height": 84
        }
      },
      "source": [
        "# Convert Target variables into one hot encoded targets\n",
        "\n",
        "train_lab = df_train['label']\n",
        "train_lab = to_categorical(train_lab, num_classes=10)\n",
        "\n",
        "test_lab = df_test['label']\n",
        "\n",
        "\n",
        "print(\"\\nShape of Train Labels:\", train_lab.shape[0], 'X' , train_lab.shape[1])\n",
        "\n",
        "print(\"\\nShape of Test Labels:\", test_lab.shape[0], 'X 1')\n"
      ],
      "execution_count": 7,
      "outputs": [
        {
          "output_type": "stream",
          "text": [
            "\n",
            "Shape of Train Labels: 60000 X 10\n",
            "\n",
            "Shape of Test Labels: 10000 X 1\n"
          ],
          "name": "stdout"
        }
      ]
    },
    {
      "cell_type": "markdown",
      "metadata": {
        "id": "V6rUBHepMEL9",
        "colab_type": "text"
      },
      "source": [
        "## Split Train Dataset to Train and Validation set"
      ]
    },
    {
      "cell_type": "code",
      "metadata": {
        "id": "0for7hgiJ1uK",
        "colab_type": "code",
        "outputId": "d45d79ba-9b8c-4f49-df3d-d49252443081",
        "colab": {
          "base_uri": "https://localhost:8080/",
          "height": 84
        }
      },
      "source": [
        "#For Conventional CNN and \n",
        "x_train, x_val, y_train, y_val = train_test_split(train_feat, train_lab, test_size = 0.2, random_state= 42)\n",
        "\n",
        "print(x_train.shape)\n",
        "print(y_train.shape)\n",
        "print(x_val.shape)\n",
        "print(y_val.shape)"
      ],
      "execution_count": 8,
      "outputs": [
        {
          "output_type": "stream",
          "text": [
            "(48000, 28, 28, 1)\n",
            "(48000, 10)\n",
            "(12000, 28, 28, 1)\n",
            "(12000, 10)\n"
          ],
          "name": "stdout"
        }
      ]
    },
    {
      "cell_type": "code",
      "metadata": {
        "id": "_Pafelv7J1oh",
        "colab_type": "code",
        "outputId": "dc8b33ea-90f6-4583-ab69-ed8c825f65ce",
        "colab": {
          "base_uri": "https://localhost:8080/",
          "height": 84
        }
      },
      "source": [
        "#For Autoencoders\n",
        "AE_x_train, AE_x_val, g_train, g_val = train_test_split(train_feat, train_feat, test_size = 0.2, random_state= 42)\n",
        "\n",
        "print(AE_x_train.shape)\n",
        "print(g_train.shape)\n",
        "print(AE_x_val.shape)\n",
        "print(g_val.shape)"
      ],
      "execution_count": 9,
      "outputs": [
        {
          "output_type": "stream",
          "text": [
            "(48000, 28, 28, 1)\n",
            "(48000, 28, 28, 1)\n",
            "(12000, 28, 28, 1)\n",
            "(12000, 28, 28, 1)\n"
          ],
          "name": "stdout"
        }
      ]
    },
    {
      "cell_type": "markdown",
      "metadata": {
        "id": "7uzRrGIeSxNu",
        "colab_type": "text"
      },
      "source": [
        "# Conventional Convolutional Neural Network"
      ]
    },
    {
      "cell_type": "markdown",
      "metadata": {
        "id": "D16yRmjOTFyE",
        "colab_type": "text"
      },
      "source": [
        "## Building a CNN"
      ]
    },
    {
      "cell_type": "code",
      "metadata": {
        "id": "wSP5mNs5SWwd",
        "colab_type": "code",
        "colab": {}
      },
      "source": [
        "# Build a ConvNet\n",
        "\n",
        "cnn_model = tf.keras.Sequential()\n",
        "\n",
        "cnn_model.add(Conv2D(filters = 32, kernel_size=(3, 3), strides= 1, padding='same', \n",
        "                 data_format='channels_last', activation='relu', input_shape= (28,28,1) ))\n",
        "cnn_model.add(BatchNormalization())\n",
        "\n",
        "cnn_model.add(Conv2D(filters = 32, kernel_size=(3, 3), strides= 1, padding='same', \n",
        "                 data_format='channels_last', activation='relu'))\n",
        "cnn_model.add(BatchNormalization())\n",
        "\n",
        "cnn_model.add(MaxPool2D(pool_size=(2, 2)))\n",
        "cnn_model.add(Dropout(0.25))\n",
        "\n",
        "\n",
        "cnn_model.add(Conv2D(filters=64, kernel_size=(3, 3), activation='relu', strides=1, \n",
        "                 padding='same', data_format='channels_last'))\n",
        "cnn_model.add(BatchNormalization())\n",
        "\n",
        "cnn_model.add(Conv2D(filters = 64, kernel_size=(3, 3), strides= 1, padding='same', \n",
        "                 data_format='channels_last', activation='relu' ))\n",
        "cnn_model.add(BatchNormalization())\n",
        "\n",
        "cnn_model.add(MaxPool2D(pool_size=(2, 2)))\n",
        "cnn_model.add(Dropout(0.25))\n",
        "\n",
        "\n",
        "cnn_model.add(Conv2D(filters=128, kernel_size=(3, 3), activation='relu', strides=1, \n",
        "                 padding='same', data_format='channels_last'))\n",
        "cnn_model.add(BatchNormalization())\n",
        "\n",
        "cnn_model.add(Conv2D(filters=128, kernel_size=(3, 3), activation='relu', strides=1, \n",
        "                 padding='same', data_format='channels_last'))\n",
        "cnn_model.add(BatchNormalization())\n",
        "\n",
        "cnn_model.add(MaxPool2D(pool_size=(2, 2)))\n",
        "cnn_model.add(Dropout(0.3))\n",
        "\n",
        "\n",
        "cnn_model.add(Flatten())\n",
        "\n",
        "cnn_model.add(Dense(512, activation='relu'))\n",
        "cnn_model.add(BatchNormalization())\n",
        "cnn_model.add(Dropout(0.5))\n",
        "\n",
        "# cnn_model.add(Dense(256, activation='relu'))\n",
        "# cnn_model.add(BatchNormalization())\n",
        "# cnn_model.add(Dropout(0.5))\n",
        "\n",
        "cnn_model.add(Dense(128, activation='relu'))\n",
        "cnn_model.add(BatchNormalization())\n",
        "cnn_model.add(Dropout(0.5))\n",
        "\n",
        "cnn_model.add(Dense(10, activation='softmax'))\n"
      ],
      "execution_count": 0,
      "outputs": []
    },
    {
      "cell_type": "markdown",
      "metadata": {
        "id": "nCBFPPEAXTm8",
        "colab_type": "text"
      },
      "source": [
        "## Compile the CNN model"
      ]
    },
    {
      "cell_type": "code",
      "metadata": {
        "id": "SBEUZ2PnTAiN",
        "colab_type": "code",
        "outputId": "48eac110-376d-4193-b848-4211c8958bed",
        "colab": {
          "base_uri": "https://localhost:8080/",
          "height": 1000
        }
      },
      "source": [
        "# Optimizer\n",
        "optimizer = Adam(lr=0.001, beta_1=0.9, beta_2=0.999 )\n",
        "\n",
        "# Compile\n",
        "cnn_model.compile(optimizer=optimizer, loss=\"categorical_crossentropy\", metrics=[\"accuracy\"])\n",
        "\n",
        "cnn_model.summary()"
      ],
      "execution_count": 11,
      "outputs": [
        {
          "output_type": "stream",
          "text": [
            "Model: \"sequential\"\n",
            "_________________________________________________________________\n",
            "Layer (type)                 Output Shape              Param #   \n",
            "=================================================================\n",
            "conv2d (Conv2D)              (None, 28, 28, 32)        320       \n",
            "_________________________________________________________________\n",
            "batch_normalization (BatchNo (None, 28, 28, 32)        128       \n",
            "_________________________________________________________________\n",
            "conv2d_1 (Conv2D)            (None, 28, 28, 32)        9248      \n",
            "_________________________________________________________________\n",
            "batch_normalization_1 (Batch (None, 28, 28, 32)        128       \n",
            "_________________________________________________________________\n",
            "max_pooling2d (MaxPooling2D) (None, 14, 14, 32)        0         \n",
            "_________________________________________________________________\n",
            "dropout (Dropout)            (None, 14, 14, 32)        0         \n",
            "_________________________________________________________________\n",
            "conv2d_2 (Conv2D)            (None, 14, 14, 64)        18496     \n",
            "_________________________________________________________________\n",
            "batch_normalization_2 (Batch (None, 14, 14, 64)        256       \n",
            "_________________________________________________________________\n",
            "conv2d_3 (Conv2D)            (None, 14, 14, 64)        36928     \n",
            "_________________________________________________________________\n",
            "batch_normalization_3 (Batch (None, 14, 14, 64)        256       \n",
            "_________________________________________________________________\n",
            "max_pooling2d_1 (MaxPooling2 (None, 7, 7, 64)          0         \n",
            "_________________________________________________________________\n",
            "dropout_1 (Dropout)          (None, 7, 7, 64)          0         \n",
            "_________________________________________________________________\n",
            "conv2d_4 (Conv2D)            (None, 7, 7, 128)         73856     \n",
            "_________________________________________________________________\n",
            "batch_normalization_4 (Batch (None, 7, 7, 128)         512       \n",
            "_________________________________________________________________\n",
            "conv2d_5 (Conv2D)            (None, 7, 7, 128)         147584    \n",
            "_________________________________________________________________\n",
            "batch_normalization_5 (Batch (None, 7, 7, 128)         512       \n",
            "_________________________________________________________________\n",
            "max_pooling2d_2 (MaxPooling2 (None, 3, 3, 128)         0         \n",
            "_________________________________________________________________\n",
            "dropout_2 (Dropout)          (None, 3, 3, 128)         0         \n",
            "_________________________________________________________________\n",
            "flatten (Flatten)            (None, 1152)              0         \n",
            "_________________________________________________________________\n",
            "dense (Dense)                (None, 512)               590336    \n",
            "_________________________________________________________________\n",
            "batch_normalization_6 (Batch (None, 512)               2048      \n",
            "_________________________________________________________________\n",
            "dropout_3 (Dropout)          (None, 512)               0         \n",
            "_________________________________________________________________\n",
            "dense_1 (Dense)              (None, 128)               65664     \n",
            "_________________________________________________________________\n",
            "batch_normalization_7 (Batch (None, 128)               512       \n",
            "_________________________________________________________________\n",
            "dropout_4 (Dropout)          (None, 128)               0         \n",
            "_________________________________________________________________\n",
            "dense_2 (Dense)              (None, 10)                1290      \n",
            "=================================================================\n",
            "Total params: 948,074\n",
            "Trainable params: 945,898\n",
            "Non-trainable params: 2,176\n",
            "_________________________________________________________________\n"
          ],
          "name": "stdout"
        }
      ]
    },
    {
      "cell_type": "markdown",
      "metadata": {
        "id": "45gQE5pMtvtj",
        "colab_type": "text"
      },
      "source": [
        "## Fit the model"
      ]
    },
    {
      "cell_type": "code",
      "metadata": {
        "id": "0Xy7-9AVXm2y",
        "colab_type": "code",
        "outputId": "6e97103a-63ca-4b71-c0ea-a9fa3c53fd79",
        "colab": {
          "base_uri": "https://localhost:8080/",
          "height": 1000
        }
      },
      "source": [
        "batches = 128\n",
        "epoch = 50\n",
        "lr = LearningRateScheduler(lambda x: 1e-3 * 0.9 ** x)\n",
        "\n",
        "model_fitting = cnn_model.fit(x_train, y_train, batch_size = batches, epochs = epoch, validation_data = (x_val, y_val), \n",
        "                          verbose=1, steps_per_epoch=x_train.shape[0] // batches, callbacks = [lr])"
      ],
      "execution_count": 12,
      "outputs": [
        {
          "output_type": "stream",
          "text": [
            "Epoch 1/50\n",
            "375/375 [==============================] - 4s 11ms/step - loss: 0.7284 - accuracy: 0.7482 - val_loss: 2.4121 - val_accuracy: 0.3266 - lr: 0.0010\n",
            "Epoch 2/50\n",
            "375/375 [==============================] - 4s 10ms/step - loss: 0.3964 - accuracy: 0.8597 - val_loss: 0.3117 - val_accuracy: 0.8880 - lr: 9.0000e-04\n",
            "Epoch 3/50\n",
            "375/375 [==============================] - 4s 10ms/step - loss: 0.3316 - accuracy: 0.8821 - val_loss: 0.2566 - val_accuracy: 0.9092 - lr: 8.1000e-04\n",
            "Epoch 4/50\n",
            "375/375 [==============================] - 4s 10ms/step - loss: 0.2946 - accuracy: 0.8959 - val_loss: 0.2328 - val_accuracy: 0.9143 - lr: 7.2900e-04\n",
            "Epoch 5/50\n",
            "375/375 [==============================] - 4s 10ms/step - loss: 0.2712 - accuracy: 0.9039 - val_loss: 0.2267 - val_accuracy: 0.9201 - lr: 6.5610e-04\n",
            "Epoch 6/50\n",
            "375/375 [==============================] - 4s 10ms/step - loss: 0.2544 - accuracy: 0.9092 - val_loss: 0.2100 - val_accuracy: 0.9245 - lr: 5.9049e-04\n",
            "Epoch 7/50\n",
            "375/375 [==============================] - 4s 10ms/step - loss: 0.2380 - accuracy: 0.9164 - val_loss: 0.2148 - val_accuracy: 0.9198 - lr: 5.3144e-04\n",
            "Epoch 8/50\n",
            "375/375 [==============================] - 4s 10ms/step - loss: 0.2217 - accuracy: 0.9216 - val_loss: 0.2089 - val_accuracy: 0.9261 - lr: 4.7830e-04\n",
            "Epoch 9/50\n",
            "375/375 [==============================] - 4s 10ms/step - loss: 0.2099 - accuracy: 0.9268 - val_loss: 0.2000 - val_accuracy: 0.9280 - lr: 4.3047e-04\n",
            "Epoch 10/50\n",
            "375/375 [==============================] - 4s 10ms/step - loss: 0.1989 - accuracy: 0.9300 - val_loss: 0.1977 - val_accuracy: 0.9294 - lr: 3.8742e-04\n",
            "Epoch 11/50\n",
            "375/375 [==============================] - 4s 10ms/step - loss: 0.1930 - accuracy: 0.9313 - val_loss: 0.1898 - val_accuracy: 0.9317 - lr: 3.4868e-04\n",
            "Epoch 12/50\n",
            "375/375 [==============================] - 4s 10ms/step - loss: 0.1806 - accuracy: 0.9357 - val_loss: 0.1845 - val_accuracy: 0.9349 - lr: 3.1381e-04\n",
            "Epoch 13/50\n",
            "375/375 [==============================] - 4s 10ms/step - loss: 0.1716 - accuracy: 0.9382 - val_loss: 0.1910 - val_accuracy: 0.9334 - lr: 2.8243e-04\n",
            "Epoch 14/50\n",
            "375/375 [==============================] - 4s 10ms/step - loss: 0.1642 - accuracy: 0.9416 - val_loss: 0.1846 - val_accuracy: 0.9362 - lr: 2.5419e-04\n",
            "Epoch 15/50\n",
            "375/375 [==============================] - 4s 11ms/step - loss: 0.1556 - accuracy: 0.9450 - val_loss: 0.1870 - val_accuracy: 0.9360 - lr: 2.2877e-04\n",
            "Epoch 16/50\n",
            "375/375 [==============================] - 4s 11ms/step - loss: 0.1490 - accuracy: 0.9468 - val_loss: 0.1877 - val_accuracy: 0.9348 - lr: 2.0589e-04\n",
            "Epoch 17/50\n",
            "375/375 [==============================] - 4s 10ms/step - loss: 0.1431 - accuracy: 0.9494 - val_loss: 0.1901 - val_accuracy: 0.9360 - lr: 1.8530e-04\n",
            "Epoch 18/50\n",
            "375/375 [==============================] - 4s 10ms/step - loss: 0.1402 - accuracy: 0.9500 - val_loss: 0.1811 - val_accuracy: 0.9390 - lr: 1.6677e-04\n",
            "Epoch 19/50\n",
            "375/375 [==============================] - 4s 10ms/step - loss: 0.1318 - accuracy: 0.9529 - val_loss: 0.1815 - val_accuracy: 0.9390 - lr: 1.5009e-04\n",
            "Epoch 20/50\n",
            "375/375 [==============================] - 4s 10ms/step - loss: 0.1253 - accuracy: 0.9547 - val_loss: 0.1845 - val_accuracy: 0.9386 - lr: 1.3509e-04\n",
            "Epoch 21/50\n",
            "375/375 [==============================] - 4s 10ms/step - loss: 0.1187 - accuracy: 0.9576 - val_loss: 0.1815 - val_accuracy: 0.9373 - lr: 1.2158e-04\n",
            "Epoch 22/50\n",
            "375/375 [==============================] - 4s 10ms/step - loss: 0.1173 - accuracy: 0.9581 - val_loss: 0.1830 - val_accuracy: 0.9393 - lr: 1.0942e-04\n",
            "Epoch 23/50\n",
            "375/375 [==============================] - 4s 10ms/step - loss: 0.1126 - accuracy: 0.9600 - val_loss: 0.1850 - val_accuracy: 0.9400 - lr: 9.8477e-05\n",
            "Epoch 24/50\n",
            "375/375 [==============================] - 4s 10ms/step - loss: 0.1117 - accuracy: 0.9602 - val_loss: 0.1878 - val_accuracy: 0.9405 - lr: 8.8629e-05\n",
            "Epoch 25/50\n",
            "375/375 [==============================] - 4s 10ms/step - loss: 0.1079 - accuracy: 0.9618 - val_loss: 0.1854 - val_accuracy: 0.9400 - lr: 7.9766e-05\n",
            "Epoch 26/50\n",
            "375/375 [==============================] - 4s 10ms/step - loss: 0.1063 - accuracy: 0.9624 - val_loss: 0.1881 - val_accuracy: 0.9389 - lr: 7.1790e-05\n",
            "Epoch 27/50\n",
            "375/375 [==============================] - 4s 10ms/step - loss: 0.1044 - accuracy: 0.9626 - val_loss: 0.1907 - val_accuracy: 0.9395 - lr: 6.4611e-05\n",
            "Epoch 28/50\n",
            "375/375 [==============================] - 4s 10ms/step - loss: 0.1011 - accuracy: 0.9644 - val_loss: 0.1866 - val_accuracy: 0.9406 - lr: 5.8150e-05\n",
            "Epoch 29/50\n",
            "375/375 [==============================] - 4s 10ms/step - loss: 0.1010 - accuracy: 0.9638 - val_loss: 0.1928 - val_accuracy: 0.9394 - lr: 5.2335e-05\n",
            "Epoch 30/50\n",
            "375/375 [==============================] - 4s 10ms/step - loss: 0.0953 - accuracy: 0.9663 - val_loss: 0.1907 - val_accuracy: 0.9394 - lr: 4.7101e-05\n",
            "Epoch 31/50\n",
            "375/375 [==============================] - 4s 10ms/step - loss: 0.0972 - accuracy: 0.9655 - val_loss: 0.1907 - val_accuracy: 0.9411 - lr: 4.2391e-05\n",
            "Epoch 32/50\n",
            "375/375 [==============================] - 4s 10ms/step - loss: 0.0964 - accuracy: 0.9657 - val_loss: 0.1929 - val_accuracy: 0.9405 - lr: 3.8152e-05\n",
            "Epoch 33/50\n",
            "375/375 [==============================] - 4s 10ms/step - loss: 0.0932 - accuracy: 0.9671 - val_loss: 0.1901 - val_accuracy: 0.9415 - lr: 3.4337e-05\n",
            "Epoch 34/50\n",
            "375/375 [==============================] - 4s 10ms/step - loss: 0.0909 - accuracy: 0.9672 - val_loss: 0.1901 - val_accuracy: 0.9416 - lr: 3.0903e-05\n",
            "Epoch 35/50\n",
            "375/375 [==============================] - 4s 10ms/step - loss: 0.0911 - accuracy: 0.9678 - val_loss: 0.1921 - val_accuracy: 0.9409 - lr: 2.7813e-05\n",
            "Epoch 36/50\n",
            "375/375 [==============================] - 4s 10ms/step - loss: 0.0864 - accuracy: 0.9693 - val_loss: 0.1927 - val_accuracy: 0.9408 - lr: 2.5032e-05\n",
            "Epoch 37/50\n",
            "375/375 [==============================] - 4s 10ms/step - loss: 0.0892 - accuracy: 0.9681 - val_loss: 0.1919 - val_accuracy: 0.9402 - lr: 2.2528e-05\n",
            "Epoch 38/50\n",
            "375/375 [==============================] - 4s 10ms/step - loss: 0.0884 - accuracy: 0.9683 - val_loss: 0.1920 - val_accuracy: 0.9413 - lr: 2.0276e-05\n",
            "Epoch 39/50\n",
            "375/375 [==============================] - 4s 10ms/step - loss: 0.0876 - accuracy: 0.9689 - val_loss: 0.1919 - val_accuracy: 0.9417 - lr: 1.8248e-05\n",
            "Epoch 40/50\n",
            "375/375 [==============================] - 4s 10ms/step - loss: 0.0862 - accuracy: 0.9692 - val_loss: 0.1941 - val_accuracy: 0.9414 - lr: 1.6423e-05\n",
            "Epoch 41/50\n",
            "375/375 [==============================] - 4s 10ms/step - loss: 0.0870 - accuracy: 0.9686 - val_loss: 0.1936 - val_accuracy: 0.9408 - lr: 1.4781e-05\n",
            "Epoch 42/50\n",
            "375/375 [==============================] - 4s 10ms/step - loss: 0.0845 - accuracy: 0.9704 - val_loss: 0.1932 - val_accuracy: 0.9415 - lr: 1.3303e-05\n",
            "Epoch 43/50\n",
            "375/375 [==============================] - 4s 10ms/step - loss: 0.0864 - accuracy: 0.9688 - val_loss: 0.1932 - val_accuracy: 0.9416 - lr: 1.1973e-05\n",
            "Epoch 44/50\n",
            "375/375 [==============================] - 4s 10ms/step - loss: 0.0861 - accuracy: 0.9692 - val_loss: 0.1934 - val_accuracy: 0.9408 - lr: 1.0775e-05\n",
            "Epoch 45/50\n",
            "375/375 [==============================] - 4s 10ms/step - loss: 0.0833 - accuracy: 0.9707 - val_loss: 0.1941 - val_accuracy: 0.9412 - lr: 9.6977e-06\n",
            "Epoch 46/50\n",
            "375/375 [==============================] - 4s 10ms/step - loss: 0.0839 - accuracy: 0.9700 - val_loss: 0.1945 - val_accuracy: 0.9404 - lr: 8.7280e-06\n",
            "Epoch 47/50\n",
            "375/375 [==============================] - 4s 10ms/step - loss: 0.0840 - accuracy: 0.9696 - val_loss: 0.1949 - val_accuracy: 0.9413 - lr: 7.8552e-06\n",
            "Epoch 48/50\n",
            "375/375 [==============================] - 4s 10ms/step - loss: 0.0834 - accuracy: 0.9706 - val_loss: 0.1953 - val_accuracy: 0.9417 - lr: 7.0697e-06\n",
            "Epoch 49/50\n",
            "375/375 [==============================] - 4s 10ms/step - loss: 0.0844 - accuracy: 0.9698 - val_loss: 0.1951 - val_accuracy: 0.9413 - lr: 6.3627e-06\n",
            "Epoch 50/50\n",
            "375/375 [==============================] - 4s 10ms/step - loss: 0.0843 - accuracy: 0.9699 - val_loss: 0.1950 - val_accuracy: 0.9416 - lr: 5.7264e-06\n"
          ],
          "name": "stdout"
        }
      ]
    },
    {
      "cell_type": "markdown",
      "metadata": {
        "id": "B_yeCBWqbI_N",
        "colab_type": "text"
      },
      "source": [
        "## Plots\n",
        "\n"
      ]
    },
    {
      "cell_type": "code",
      "metadata": {
        "id": "CWaqg52EaM62",
        "colab_type": "code",
        "outputId": "d460f104-10f4-42ea-e7f8-c5df1e9ad088",
        "colab": {
          "base_uri": "https://localhost:8080/",
          "height": 714
        }
      },
      "source": [
        "accuracy = model_fitting.history['accuracy']\n",
        "val_accuracy = model_fitting.history['val_accuracy']\n",
        "\n",
        "loss = model_fitting.history['loss']\n",
        "val_loss = model_fitting.history['val_loss']\n",
        "\n",
        "epochs = range(len(accuracy))\n",
        "\n",
        "#########\n",
        "plt.figure(figsize=(12, 5))\n",
        "plt.plot(epochs, loss, 'b-', label='Training loss')\n",
        "plt.plot(epochs, val_loss, 'r-', label='Validation loss')\n",
        "plt.title('Training and Validation Loss VS Epochs', fontsize=15)\n",
        "plt.xlabel('Epochs', fontsize=15)\n",
        "plt.ylabel('Loss', fontsize=15)\n",
        "plt.legend()\n",
        "\n",
        "#########\n",
        "plt.figure(figsize=(12, 5))\n",
        "plt.plot(epochs, accuracy, 'b-', label='Training accuracy')\n",
        "plt.plot(epochs, val_accuracy, 'r-', label='Validation accuracy')\n",
        "plt.title('Training and Validation Accuracy VS Epochs', fontsize=15)\n",
        "plt.xlabel('Epochs', fontsize=15)\n",
        "plt.ylabel('Accuracy', fontsize=15)\n",
        "plt.legend()\n",
        "\n"
      ],
      "execution_count": 13,
      "outputs": [
        {
          "output_type": "execute_result",
          "data": {
            "text/plain": [
              "<matplotlib.legend.Legend at 0x7f4a8c7f2080>"
            ]
          },
          "metadata": {
            "tags": []
          },
          "execution_count": 13
        },
        {
          "output_type": "display_data",
          "data": {
            "image/png": "[encoded data removed]",
            "text/plain": [
              "<Figure size 864x360 with 1 Axes>"
            ]
          },
          "metadata": {
            "tags": [],
            "needs_background": "light"
          }
        },
        {
          "output_type": "display_data",
          "data": {
            "image/png": "[encoded data removed]",
            "text/plain": [
              "<Figure size 864x360 with 1 Axes>"
            ]
          },
          "metadata": {
            "tags": [],
            "needs_background": "light"
          }
        }
      ]
    },
    {
      "cell_type": "markdown",
      "metadata": {
        "id": "U4C2Dj2jbyq1",
        "colab_type": "text"
      },
      "source": [
        "## Generate predictions on test dataset"
      ]
    },
    {
      "cell_type": "code",
      "metadata": {
        "id": "cu1lBzZzmpeI",
        "colab_type": "code",
        "outputId": "70412e03-b232-4835-ae55-e587791009dc",
        "colab": {
          "base_uri": "https://localhost:8080/",
          "height": 50
        }
      },
      "source": [
        "# Generate predictions \n",
        "\n",
        "predictions = cnn_model.predict(test_feat)\n",
        "\n",
        "predictions = np.argmax(predictions, axis=1)\n",
        "\n",
        "score = accuracy_score(test_lab, predictions)\n",
        "\n",
        "print(\"\\nThe accuracy of the trained CNN model is: \", score*100, \"%\")\n"
      ],
      "execution_count": 14,
      "outputs": [
        {
          "output_type": "stream",
          "text": [
            "\n",
            "The accuracy of the trained CNN model is:  94.42 %\n"
          ],
          "name": "stdout"
        }
      ]
    },
    {
      "cell_type": "markdown",
      "metadata": {
        "id": "xNZLoY_7dEEt",
        "colab_type": "text"
      },
      "source": [
        "# Convolutional AutoEncoder"
      ]
    },
    {
      "cell_type": "markdown",
      "metadata": {
        "id": "BeNEMZMLuPyg",
        "colab_type": "text"
      },
      "source": [
        "## Parameters"
      ]
    },
    {
      "cell_type": "code",
      "metadata": {
        "id": "MoV0t14quO5u",
        "colab_type": "code",
        "colab": {}
      },
      "source": [
        "inChannel = 1\n",
        "a, b = 28, 28\n",
        "input_img = Input(shape = (a, b, inChannel))\n",
        "num_classes = 10"
      ],
      "execution_count": 0,
      "outputs": []
    },
    {
      "cell_type": "markdown",
      "metadata": {
        "id": "DgEsG8sHtsCW",
        "colab_type": "text"
      },
      "source": [
        "## Encoder & Decoder"
      ]
    },
    {
      "cell_type": "code",
      "metadata": {
        "colab_type": "code",
        "id": "ulQ8BiEQdsOK",
        "colab": {}
      },
      "source": [
        "def encoder(input_img):\n",
        "\n",
        "    #encoder\n",
        "    #input layer = 28 x 28 x 1 (wide and thin)\n",
        "\n",
        "    # First CONV block\n",
        "    conv1 = Conv2D(filters = 32, kernel_size=(3, 3), strides= 1, padding='same', \n",
        "                 data_format='channels_last', activation='relu')(input_img) #28 x 28 x 32\n",
        "    bn1 = BatchNormalization()(conv1)\n",
        "    conv1 = Conv2D(filters = 32, kernel_size=(3, 3), strides= 1, padding='same', \n",
        "                 data_format='channels_last', activation='relu')(bn1) #28 x 28 x 32\n",
        "    bn1 = BatchNormalization()(conv1)\n",
        "    pool1 = MaxPool2D(pool_size=(2, 2))(bn1) #14 x 14 x 32\n",
        "\n",
        "\n",
        "    # Second CONV block\n",
        "    conv2 = Conv2D(filters=64, kernel_size=(3, 3), activation='relu', strides=1, \n",
        "                 padding='same', data_format='channels_last')(pool1) #14 x 14 x 64\n",
        "    bn2 = BatchNormalization()(conv2)\n",
        "    conv2 = Conv2D(filters=64, kernel_size=(3, 3), activation='relu', strides=1, \n",
        "                 padding='same', data_format='channels_last')(bn2) #14 x 14 x 64\n",
        "    bn2 = BatchNormalization()(conv2)\n",
        "    pool2 = MaxPool2D(pool_size=(2, 2))(bn2) #7 x 7 x 64\n",
        "    drop1 = Dropout(0.25)(pool2)\n",
        "\n",
        "\n",
        "    # Third CONV block\n",
        "    conv3 = Conv2D(filters=128, kernel_size=(3, 3), activation='relu', strides=1, \n",
        "                 padding='same', data_format='channels_last')(drop1) #7 x 7 x 128 (small and thick)\n",
        "    bn3 = BatchNormalization()(conv3)\n",
        "    conv3 = Conv2D(filters=128, kernel_size=(3, 3), activation='relu', strides=1, \n",
        "                 padding='same', data_format='channels_last')(bn3) #7 x 7 x 128 (small and thick)\n",
        "    bn3 = BatchNormalization()(conv3)\n",
        "    # pool3 = MaxPool2D(pool_size=(2, 2))(bn3)\n",
        "    drop2 = Dropout(0.25)(bn3)\n",
        "\n",
        "     \n",
        "\n",
        "    return drop2\n",
        "\n",
        "def decoder(encoded):    \n",
        "    #decoder\n",
        "\n",
        "    # First CONV block\n",
        "    conv1 = Conv2D(filters=128, kernel_size=(3, 3), activation='relu', strides=1, \n",
        "                 padding='same', data_format='channels_last')(encoded) #7 x 7 x 128\n",
        "    bn1 = BatchNormalization()(conv1)\n",
        "    conv1 = Conv2D(filters=128, kernel_size=(3, 3), activation='relu', strides=1, \n",
        "                 padding='same', data_format='channels_last')(bn1) #7 x 7 x 128\n",
        "    bn1 = BatchNormalization()(conv1)\n",
        "    up1 = UpSampling2D((2,2))(bn1)\n",
        "\n",
        "    # Second CONV block\n",
        "    conv2 = Conv2D(filters=64, kernel_size=(3, 3), activation='relu', strides=1, \n",
        "                 padding='same', data_format='channels_last')(up1)\n",
        "    bn2 = BatchNormalization()(conv2)\n",
        "    conv2 = Conv2D(filters=64, kernel_size=(3, 3), activation='relu', strides=1, \n",
        "                 padding='same', data_format='channels_last')(bn2)\n",
        "    bn2 = BatchNormalization()(conv2)\n",
        "    up2 = UpSampling2D((2,2))(bn2) #14 x 14 x 64\n",
        "\n",
        "    # Third CONV block\n",
        "    conv3 = Conv2D(filters = 32, kernel_size=(3, 3), padding='same', \n",
        "                 data_format='channels_last', activation='relu')(up2)\n",
        "    bn3 = BatchNormalization()(conv3)\n",
        "    conv3 = Conv2D(filters = 32, kernel_size=(3, 3), padding='same', \n",
        "                 data_format='channels_last', activation='relu')(bn3)\n",
        "    bn3 = BatchNormalization()(conv3)\n",
        "    # up3 = UpSampling2D((2,2))(bn3) # 28 x 28 x 32\n",
        "    \n",
        "    decoded = Conv2D(1, (3, 3), activation='sigmoid', padding='same')(bn3) # 28 x 28 x 1\n",
        "\n",
        "    return decoded"
      ],
      "execution_count": 0,
      "outputs": []
    },
    {
      "cell_type": "markdown",
      "metadata": {
        "id": "efS-EUXEv9bF",
        "colab_type": "text"
      },
      "source": [
        "## Compile the model"
      ]
    },
    {
      "cell_type": "code",
      "metadata": {
        "id": "Kf5CtCzNv9Ao",
        "colab_type": "code",
        "outputId": "7ea8a6c4-12f4-4f7f-b43f-1515131e632b",
        "colab": {
          "base_uri": "https://localhost:8080/",
          "height": 1000
        }
      },
      "source": [
        "autoencoder = Model(input_img, decoder(encoder(input_img)))\n",
        "\n",
        "autoencoder.compile(loss='mean_squared_error', optimizer = RMSprop())\n",
        "\n",
        "autoencoder.summary()\n"
      ],
      "execution_count": 17,
      "outputs": [
        {
          "output_type": "stream",
          "text": [
            "Model: \"model\"\n",
            "_________________________________________________________________\n",
            "Layer (type)                 Output Shape              Param #   \n",
            "=================================================================\n",
            "input_1 (InputLayer)         [(None, 28, 28, 1)]       0         \n",
            "_________________________________________________________________\n",
            "conv2d_6 (Conv2D)            (None, 28, 28, 32)        320       \n",
            "_________________________________________________________________\n",
            "batch_normalization_8 (Batch (None, 28, 28, 32)        128       \n",
            "_________________________________________________________________\n",
            "conv2d_7 (Conv2D)            (None, 28, 28, 32)        9248      \n",
            "_________________________________________________________________\n",
            "batch_normalization_9 (Batch (None, 28, 28, 32)        128       \n",
            "_________________________________________________________________\n",
            "max_pooling2d_3 (MaxPooling2 (None, 14, 14, 32)        0         \n",
            "_________________________________________________________________\n",
            "conv2d_8 (Conv2D)            (None, 14, 14, 64)        18496     \n",
            "_________________________________________________________________\n",
            "batch_normalization_10 (Batc (None, 14, 14, 64)        256       \n",
            "_________________________________________________________________\n",
            "conv2d_9 (Conv2D)            (None, 14, 14, 64)        36928     \n",
            "_________________________________________________________________\n",
            "batch_normalization_11 (Batc (None, 14, 14, 64)        256       \n",
            "_________________________________________________________________\n",
            "max_pooling2d_4 (MaxPooling2 (None, 7, 7, 64)          0         \n",
            "_________________________________________________________________\n",
            "dropout_5 (Dropout)          (None, 7, 7, 64)          0         \n",
            "_________________________________________________________________\n",
            "conv2d_10 (Conv2D)           (None, 7, 7, 128)         73856     \n",
            "_________________________________________________________________\n",
            "batch_normalization_12 (Batc (None, 7, 7, 128)         512       \n",
            "_________________________________________________________________\n",
            "conv2d_11 (Conv2D)           (None, 7, 7, 128)         147584    \n",
            "_________________________________________________________________\n",
            "batch_normalization_13 (Batc (None, 7, 7, 128)         512       \n",
            "_________________________________________________________________\n",
            "dropout_6 (Dropout)          (None, 7, 7, 128)         0         \n",
            "_________________________________________________________________\n",
            "conv2d_12 (Conv2D)           (None, 7, 7, 128)         147584    \n",
            "_________________________________________________________________\n",
            "batch_normalization_14 (Batc (None, 7, 7, 128)         512       \n",
            "_________________________________________________________________\n",
            "conv2d_13 (Conv2D)           (None, 7, 7, 128)         147584    \n",
            "_________________________________________________________________\n",
            "batch_normalization_15 (Batc (None, 7, 7, 128)         512       \n",
            "_________________________________________________________________\n",
            "up_sampling2d (UpSampling2D) (None, 14, 14, 128)       0         \n",
            "_________________________________________________________________\n",
            "conv2d_14 (Conv2D)           (None, 14, 14, 64)        73792     \n",
            "_________________________________________________________________\n",
            "batch_normalization_16 (Batc (None, 14, 14, 64)        256       \n",
            "_________________________________________________________________\n",
            "conv2d_15 (Conv2D)           (None, 14, 14, 64)        36928     \n",
            "_________________________________________________________________\n",
            "batch_normalization_17 (Batc (None, 14, 14, 64)        256       \n",
            "_________________________________________________________________\n",
            "up_sampling2d_1 (UpSampling2 (None, 28, 28, 64)        0         \n",
            "_________________________________________________________________\n",
            "conv2d_16 (Conv2D)           (None, 28, 28, 32)        18464     \n",
            "_________________________________________________________________\n",
            "batch_normalization_18 (Batc (None, 28, 28, 32)        128       \n",
            "_________________________________________________________________\n",
            "conv2d_17 (Conv2D)           (None, 28, 28, 32)        9248      \n",
            "_________________________________________________________________\n",
            "batch_normalization_19 (Batc (None, 28, 28, 32)        128       \n",
            "_________________________________________________________________\n",
            "conv2d_18 (Conv2D)           (None, 28, 28, 1)         289       \n",
            "=================================================================\n",
            "Total params: 723,905\n",
            "Trainable params: 722,113\n",
            "Non-trainable params: 1,792\n",
            "_________________________________________________________________\n"
          ],
          "name": "stdout"
        }
      ]
    },
    {
      "cell_type": "markdown",
      "metadata": {
        "id": "D7883mqagPf3",
        "colab_type": "text"
      },
      "source": [
        "## Train the model\n"
      ]
    },
    {
      "cell_type": "code",
      "metadata": {
        "id": "lekE6yscfoiE",
        "colab_type": "code",
        "outputId": "1e814681-260d-417c-9a1b-6ef4223d41ee",
        "colab": {
          "base_uri": "https://localhost:8080/",
          "height": 1000
        }
      },
      "source": [
        "batches = 128\n",
        "epoch = 50\n",
        "\n",
        "\n",
        "# Train autoencoder\n",
        "autoencoder_train = autoencoder.fit(AE_x_train, g_train, batch_size= batches, epochs=epoch, verbose=1, validation_data=(AE_x_val, g_val))\n"
      ],
      "execution_count": 18,
      "outputs": [
        {
          "output_type": "stream",
          "text": [
            "Epoch 1/50\n",
            "375/375 [==============================] - 8s 22ms/step - loss: 0.0207 - val_loss: 0.0359\n",
            "Epoch 2/50\n",
            "375/375 [==============================] - 8s 21ms/step - loss: 0.0092 - val_loss: 0.0081\n",
            "Epoch 3/50\n",
            "375/375 [==============================] - 8s 21ms/step - loss: 0.0072 - val_loss: 0.0058\n",
            "Epoch 4/50\n",
            "375/375 [==============================] - 8s 21ms/step - loss: 0.0061 - val_loss: 0.0057\n",
            "Epoch 5/50\n",
            "375/375 [==============================] - 8s 21ms/step - loss: 0.0053 - val_loss: 0.0041\n",
            "Epoch 6/50\n",
            "375/375 [==============================] - 8s 21ms/step - loss: 0.0049 - val_loss: 0.0057\n",
            "Epoch 7/50\n",
            "375/375 [==============================] - 8s 21ms/step - loss: 0.0046 - val_loss: 0.0036\n",
            "Epoch 8/50\n",
            "375/375 [==============================] - 8s 21ms/step - loss: 0.0042 - val_loss: 0.0043\n",
            "Epoch 9/50\n",
            "375/375 [==============================] - 8s 21ms/step - loss: 0.0040 - val_loss: 0.0028\n",
            "Epoch 10/50\n",
            "375/375 [==============================] - 8s 21ms/step - loss: 0.0038 - val_loss: 0.0032\n",
            "Epoch 11/50\n",
            "375/375 [==============================] - 8s 21ms/step - loss: 0.0037 - val_loss: 0.0026\n",
            "Epoch 12/50\n",
            "375/375 [==============================] - 8s 22ms/step - loss: 0.0035 - val_loss: 0.0029\n",
            "Epoch 13/50\n",
            "375/375 [==============================] - 8s 21ms/step - loss: 0.0034 - val_loss: 0.0026\n",
            "Epoch 14/50\n",
            "375/375 [==============================] - 8s 21ms/step - loss: 0.0033 - val_loss: 0.0027\n",
            "Epoch 15/50\n",
            "375/375 [==============================] - 8s 21ms/step - loss: 0.0032 - val_loss: 0.0037\n",
            "Epoch 16/50\n",
            "375/375 [==============================] - 8s 21ms/step - loss: 0.0030 - val_loss: 0.0034\n",
            "Epoch 17/50\n",
            "375/375 [==============================] - 8s 21ms/step - loss: 0.0030 - val_loss: 0.0021\n",
            "Epoch 18/50\n",
            "375/375 [==============================] - 8s 21ms/step - loss: 0.0029 - val_loss: 0.0021\n",
            "Epoch 19/50\n",
            "375/375 [==============================] - 8s 21ms/step - loss: 0.0028 - val_loss: 0.0026\n",
            "Epoch 20/50\n",
            "375/375 [==============================] - 8s 21ms/step - loss: 0.0028 - val_loss: 0.0021\n",
            "Epoch 21/50\n",
            "375/375 [==============================] - 8s 21ms/step - loss: 0.0027 - val_loss: 0.0018\n",
            "Epoch 22/50\n",
            "375/375 [==============================] - 8s 21ms/step - loss: 0.0027 - val_loss: 0.0023\n",
            "Epoch 23/50\n",
            "375/375 [==============================] - 8s 21ms/step - loss: 0.0026 - val_loss: 0.0017\n",
            "Epoch 24/50\n",
            "375/375 [==============================] - 8s 21ms/step - loss: 0.0026 - val_loss: 0.0018\n",
            "Epoch 25/50\n",
            "375/375 [==============================] - 8s 21ms/step - loss: 0.0025 - val_loss: 0.0025\n",
            "Epoch 26/50\n",
            "375/375 [==============================] - 8s 21ms/step - loss: 0.0025 - val_loss: 0.0019\n",
            "Epoch 27/50\n",
            "375/375 [==============================] - 8s 21ms/step - loss: 0.0025 - val_loss: 0.0017\n",
            "Epoch 28/50\n",
            "375/375 [==============================] - 8s 21ms/step - loss: 0.0024 - val_loss: 0.0021\n",
            "Epoch 29/50\n",
            "375/375 [==============================] - 8s 21ms/step - loss: 0.0024 - val_loss: 0.0018\n",
            "Epoch 30/50\n",
            "375/375 [==============================] - 8s 21ms/step - loss: 0.0024 - val_loss: 0.0020\n",
            "Epoch 31/50\n",
            "375/375 [==============================] - 8s 21ms/step - loss: 0.0023 - val_loss: 0.0016\n",
            "Epoch 32/50\n",
            "375/375 [==============================] - 8s 21ms/step - loss: 0.0023 - val_loss: 0.0016\n",
            "Epoch 33/50\n",
            "375/375 [==============================] - 8s 21ms/step - loss: 0.0023 - val_loss: 0.0016\n",
            "Epoch 34/50\n",
            "375/375 [==============================] - 8s 21ms/step - loss: 0.0023 - val_loss: 0.0023\n",
            "Epoch 35/50\n",
            "375/375 [==============================] - 8s 21ms/step - loss: 0.0023 - val_loss: 0.0017\n",
            "Epoch 36/50\n",
            "375/375 [==============================] - 8s 21ms/step - loss: 0.0022 - val_loss: 0.0020\n",
            "Epoch 37/50\n",
            "375/375 [==============================] - 8s 21ms/step - loss: 0.0022 - val_loss: 0.0017\n",
            "Epoch 38/50\n",
            "375/375 [==============================] - 8s 21ms/step - loss: 0.0022 - val_loss: 0.0019\n",
            "Epoch 39/50\n",
            "375/375 [==============================] - 8s 21ms/step - loss: 0.0022 - val_loss: 0.0017\n",
            "Epoch 40/50\n",
            "375/375 [==============================] - 8s 21ms/step - loss: 0.0022 - val_loss: 0.0014\n",
            "Epoch 41/50\n",
            "375/375 [==============================] - 8s 21ms/step - loss: 0.0021 - val_loss: 0.0017\n",
            "Epoch 42/50\n",
            "375/375 [==============================] - 8s 21ms/step - loss: 0.0021 - val_loss: 0.0014\n",
            "Epoch 43/50\n",
            "375/375 [==============================] - 8s 21ms/step - loss: 0.0021 - val_loss: 0.0015\n",
            "Epoch 44/50\n",
            "375/375 [==============================] - 8s 21ms/step - loss: 0.0021 - val_loss: 0.0017\n",
            "Epoch 45/50\n",
            "375/375 [==============================] - 8s 21ms/step - loss: 0.0021 - val_loss: 0.0016\n",
            "Epoch 46/50\n",
            "375/375 [==============================] - 8s 21ms/step - loss: 0.0021 - val_loss: 0.0013\n",
            "Epoch 47/50\n",
            "375/375 [==============================] - 8s 21ms/step - loss: 0.0021 - val_loss: 0.0012\n",
            "Epoch 48/50\n",
            "375/375 [==============================] - 8s 21ms/step - loss: 0.0020 - val_loss: 0.0013\n",
            "Epoch 49/50\n",
            "375/375 [==============================] - 8s 21ms/step - loss: 0.0020 - val_loss: 0.0015\n",
            "Epoch 50/50\n",
            "375/375 [==============================] - 8s 21ms/step - loss: 0.0020 - val_loss: 0.0013\n"
          ],
          "name": "stdout"
        }
      ]
    },
    {
      "cell_type": "markdown",
      "metadata": {
        "id": "lfSYcKxZBoGU",
        "colab_type": "text"
      },
      "source": [
        "## Loss vs Epochs Plot"
      ]
    },
    {
      "cell_type": "code",
      "metadata": {
        "id": "52Rkch8WlyGJ",
        "colab_type": "code",
        "outputId": "f9fd2576-013c-4cab-ed97-42018eccc7e6",
        "colab": {
          "base_uri": "https://localhost:8080/",
          "height": 357
        }
      },
      "source": [
        "loss = autoencoder_train.history['loss']\n",
        "val_loss = autoencoder_train.history['val_loss']\n",
        "epochs = range(len(loss))\n",
        "\n",
        "fig = plt.figure(figsize = (12,5))\n",
        "\n",
        "plt.plot(epochs, loss, '-r', label='Training loss')\n",
        "plt.plot(epochs, val_loss, '-b', label='Validation loss')\n",
        "plt.xlabel('Epochs', fontsize= 15)\n",
        "plt.ylabel('Loss', fontsize= 15)\n",
        "plt.title('AutoEncoder Training and validation loss Vs Epochs', fontsize= 15)\n",
        "plt.legend()\n",
        "plt.show()"
      ],
      "execution_count": 19,
      "outputs": [
        {
          "output_type": "display_data",
          "data": {
            "image/png": "[encoded data removed]",
            "text/plain": [
              "<Figure size 864x360 with 1 Axes>"
            ]
          },
          "metadata": {
            "tags": [],
            "needs_background": "light"
          }
        }
      ]
    },
    {
      "cell_type": "markdown",
      "metadata": {
        "id": "IXOECokREnDE",
        "colab_type": "text"
      },
      "source": [
        "## Split the Train dataset again \n",
        "\n"
      ]
    },
    {
      "cell_type": "code",
      "metadata": {
        "id": "Bz7wCJCfCstP",
        "colab_type": "code",
        "outputId": "e390229b-d9ed-4770-958d-58c295337a00",
        "colab": {
          "base_uri": "https://localhost:8080/",
          "height": 84
        }
      },
      "source": [
        "AE_x_train, AE_x_val, y_train, y_val = train_test_split(train_feat, train_lab, test_size = 0.2, random_state= 42)\n",
        "\n",
        "print(AE_x_train.shape)\n",
        "print(y_train.shape)\n",
        "print(AE_x_val.shape)\n",
        "print(y_val.shape)"
      ],
      "execution_count": 20,
      "outputs": [
        {
          "output_type": "stream",
          "text": [
            "(48000, 28, 28, 1)\n",
            "(48000, 10)\n",
            "(12000, 28, 28, 1)\n",
            "(12000, 10)\n"
          ],
          "name": "stdout"
        }
      ]
    },
    {
      "cell_type": "markdown",
      "metadata": {
        "id": "xVsGV7X-8GtF",
        "colab_type": "text"
      },
      "source": [
        "## Fully connected layer\n"
      ]
    },
    {
      "cell_type": "code",
      "metadata": {
        "id": "liSi2OdeuE2Q",
        "colab_type": "code",
        "colab": {}
      },
      "source": [
        "def fullyconn(enco):\n",
        "    flat = Flatten()(enco)                          # Flatten the input\n",
        "\n",
        "    den1 = Dense(512, activation='relu')(flat)      # First dense layer\n",
        "    bn1 = BatchNormalization()(den1)\n",
        "    drop1 = Dropout(0.5)(bn1)\n",
        "\n",
        "    den2 = Dense(64, activation='relu')(drop1)        # Second dense layer\n",
        "    bn2 = BatchNormalization()(den2)\n",
        "    drop2 = Dropout(0.5)(bn2)\n",
        "\n",
        "    out = Dense(num_classes, activation='softmax')(drop2)     # Output layer\n",
        "    return out"
      ],
      "execution_count": 0,
      "outputs": []
    },
    {
      "cell_type": "markdown",
      "metadata": {
        "id": "p-nDlnXH2Czf",
        "colab_type": "text"
      },
      "source": [
        "## Create the Convolutional Autoencoder using the Encoder and Fully Connected Layer"
      ]
    },
    {
      "cell_type": "code",
      "metadata": {
        "id": "bFxlq6V68RYY",
        "colab_type": "code",
        "outputId": "b4b7e457-8740-4c65-a2cc-47b3beebb377",
        "colab": {
          "base_uri": "https://localhost:8080/",
          "height": 991
        }
      },
      "source": [
        "encode = encoder(input_img)\n",
        "conv_ae = Model(input_img, fullyconn(encode))\n",
        "\n",
        "conv_ae.summary()"
      ],
      "execution_count": 22,
      "outputs": [
        {
          "output_type": "stream",
          "text": [
            "Model: \"model_1\"\n",
            "_________________________________________________________________\n",
            "Layer (type)                 Output Shape              Param #   \n",
            "=================================================================\n",
            "input_1 (InputLayer)         [(None, 28, 28, 1)]       0         \n",
            "_________________________________________________________________\n",
            "conv2d_19 (Conv2D)           (None, 28, 28, 32)        320       \n",
            "_________________________________________________________________\n",
            "batch_normalization_20 (Batc (None, 28, 28, 32)        128       \n",
            "_________________________________________________________________\n",
            "conv2d_20 (Conv2D)           (None, 28, 28, 32)        9248      \n",
            "_________________________________________________________________\n",
            "batch_normalization_21 (Batc (None, 28, 28, 32)        128       \n",
            "_________________________________________________________________\n",
            "max_pooling2d_5 (MaxPooling2 (None, 14, 14, 32)        0         \n",
            "_________________________________________________________________\n",
            "conv2d_21 (Conv2D)           (None, 14, 14, 64)        18496     \n",
            "_________________________________________________________________\n",
            "batch_normalization_22 (Batc (None, 14, 14, 64)        256       \n",
            "_________________________________________________________________\n",
            "conv2d_22 (Conv2D)           (None, 14, 14, 64)        36928     \n",
            "_________________________________________________________________\n",
            "batch_normalization_23 (Batc (None, 14, 14, 64)        256       \n",
            "_________________________________________________________________\n",
            "max_pooling2d_6 (MaxPooling2 (None, 7, 7, 64)          0         \n",
            "_________________________________________________________________\n",
            "dropout_7 (Dropout)          (None, 7, 7, 64)          0         \n",
            "_________________________________________________________________\n",
            "conv2d_23 (Conv2D)           (None, 7, 7, 128)         73856     \n",
            "_________________________________________________________________\n",
            "batch_normalization_24 (Batc (None, 7, 7, 128)         512       \n",
            "_________________________________________________________________\n",
            "conv2d_24 (Conv2D)           (None, 7, 7, 128)         147584    \n",
            "_________________________________________________________________\n",
            "batch_normalization_25 (Batc (None, 7, 7, 128)         512       \n",
            "_________________________________________________________________\n",
            "dropout_8 (Dropout)          (None, 7, 7, 128)         0         \n",
            "_________________________________________________________________\n",
            "flatten_1 (Flatten)          (None, 6272)              0         \n",
            "_________________________________________________________________\n",
            "dense_3 (Dense)              (None, 512)               3211776   \n",
            "_________________________________________________________________\n",
            "batch_normalization_26 (Batc (None, 512)               2048      \n",
            "_________________________________________________________________\n",
            "dropout_9 (Dropout)          (None, 512)               0         \n",
            "_________________________________________________________________\n",
            "dense_4 (Dense)              (None, 64)                32832     \n",
            "_________________________________________________________________\n",
            "batch_normalization_27 (Batc (None, 64)                256       \n",
            "_________________________________________________________________\n",
            "dropout_10 (Dropout)         (None, 64)                0         \n",
            "_________________________________________________________________\n",
            "dense_5 (Dense)              (None, 10)                650       \n",
            "=================================================================\n",
            "Total params: 3,535,786\n",
            "Trainable params: 3,533,738\n",
            "Non-trainable params: 2,048\n",
            "_________________________________________________________________\n"
          ],
          "name": "stdout"
        }
      ]
    },
    {
      "cell_type": "code",
      "metadata": {
        "id": "1c_09EcON-AP",
        "colab_type": "code",
        "colab": {}
      },
      "source": [
        "for l1,l2 in zip(conv_ae.layers[:17], autoencoder.layers[0:17]):\n",
        "    l1.set_weights(l2.get_weights())"
      ],
      "execution_count": 0,
      "outputs": []
    },
    {
      "cell_type": "markdown",
      "metadata": {
        "id": "aixjetFm23xj",
        "colab_type": "text"
      },
      "source": [
        "## Compile and Train the Convolutional Autoencoder"
      ]
    },
    {
      "cell_type": "code",
      "metadata": {
        "id": "3xGVy-CLKHTI",
        "colab_type": "code",
        "outputId": "53108cc2-27ce-4840-fa98-3842c4eaf812",
        "colab": {
          "base_uri": "https://localhost:8080/",
          "height": 991
        }
      },
      "source": [
        "for layer in conv_ae.layers[0:17]:\n",
        "    layer.trainable = False\n",
        "\n",
        "# Optimizer\n",
        "opt = Adam(lr=0.001, beta_1=0.9, beta_2=0.999 )\n",
        "\n",
        "\n",
        "conv_ae.compile(loss='categorical_crossentropy', optimizer= opt, metrics=['accuracy'])\n",
        "conv_ae.summary()\n"
      ],
      "execution_count": 24,
      "outputs": [
        {
          "output_type": "stream",
          "text": [
            "Model: \"model_1\"\n",
            "_________________________________________________________________\n",
            "Layer (type)                 Output Shape              Param #   \n",
            "=================================================================\n",
            "input_1 (InputLayer)         [(None, 28, 28, 1)]       0         \n",
            "_________________________________________________________________\n",
            "conv2d_19 (Conv2D)           (None, 28, 28, 32)        320       \n",
            "_________________________________________________________________\n",
            "batch_normalization_20 (Batc (None, 28, 28, 32)        128       \n",
            "_________________________________________________________________\n",
            "conv2d_20 (Conv2D)           (None, 28, 28, 32)        9248      \n",
            "_________________________________________________________________\n",
            "batch_normalization_21 (Batc (None, 28, 28, 32)        128       \n",
            "_________________________________________________________________\n",
            "max_pooling2d_5 (MaxPooling2 (None, 14, 14, 32)        0         \n",
            "_________________________________________________________________\n",
            "conv2d_21 (Conv2D)           (None, 14, 14, 64)        18496     \n",
            "_________________________________________________________________\n",
            "batch_normalization_22 (Batc (None, 14, 14, 64)        256       \n",
            "_________________________________________________________________\n",
            "conv2d_22 (Conv2D)           (None, 14, 14, 64)        36928     \n",
            "_________________________________________________________________\n",
            "batch_normalization_23 (Batc (None, 14, 14, 64)        256       \n",
            "_________________________________________________________________\n",
            "max_pooling2d_6 (MaxPooling2 (None, 7, 7, 64)          0         \n",
            "_________________________________________________________________\n",
            "dropout_7 (Dropout)          (None, 7, 7, 64)          0         \n",
            "_________________________________________________________________\n",
            "conv2d_23 (Conv2D)           (None, 7, 7, 128)         73856     \n",
            "_________________________________________________________________\n",
            "batch_normalization_24 (Batc (None, 7, 7, 128)         512       \n",
            "_________________________________________________________________\n",
            "conv2d_24 (Conv2D)           (None, 7, 7, 128)         147584    \n",
            "_________________________________________________________________\n",
            "batch_normalization_25 (Batc (None, 7, 7, 128)         512       \n",
            "_________________________________________________________________\n",
            "dropout_8 (Dropout)          (None, 7, 7, 128)         0         \n",
            "_________________________________________________________________\n",
            "flatten_1 (Flatten)          (None, 6272)              0         \n",
            "_________________________________________________________________\n",
            "dense_3 (Dense)              (None, 512)               3211776   \n",
            "_________________________________________________________________\n",
            "batch_normalization_26 (Batc (None, 512)               2048      \n",
            "_________________________________________________________________\n",
            "dropout_9 (Dropout)          (None, 512)               0         \n",
            "_________________________________________________________________\n",
            "dense_4 (Dense)              (None, 64)                32832     \n",
            "_________________________________________________________________\n",
            "batch_normalization_27 (Batc (None, 64)                256       \n",
            "_________________________________________________________________\n",
            "dropout_10 (Dropout)         (None, 64)                0         \n",
            "_________________________________________________________________\n",
            "dense_5 (Dense)              (None, 10)                650       \n",
            "=================================================================\n",
            "Total params: 3,535,786\n",
            "Trainable params: 3,246,410\n",
            "Non-trainable params: 289,376\n",
            "_________________________________________________________________\n"
          ],
          "name": "stdout"
        }
      ]
    },
    {
      "cell_type": "markdown",
      "metadata": {
        "id": "2u93lAKP8bcq",
        "colab_type": "text"
      },
      "source": [
        "## Fit the model"
      ]
    },
    {
      "cell_type": "code",
      "metadata": {
        "id": "scyR6NYBKHQq",
        "colab_type": "code",
        "outputId": "e6dcbf41-1e0d-4415-f635-8102a545a08d",
        "colab": {
          "base_uri": "https://localhost:8080/",
          "height": 1000
        }
      },
      "source": [
        "batches = 128\n",
        "epoch = 50\n",
        "\n",
        "# Learning Rate Decay\n",
        "\n",
        "lr = LearningRateScheduler(lambda x: 1e-3 * 0.9 ** x)\n",
        "\n",
        "\n",
        "classify_train = conv_ae.fit(x_train, y_train, batch_size= batches, epochs= epoch, verbose=1, validation_data=(x_val, y_val))\n"
      ],
      "execution_count": 25,
      "outputs": [
        {
          "output_type": "stream",
          "text": [
            "Epoch 1/50\n",
            "375/375 [==============================] - 2s 6ms/step - loss: 0.5656 - accuracy: 0.8165 - val_loss: 0.3033 - val_accuracy: 0.8918\n",
            "Epoch 2/50\n",
            "375/375 [==============================] - 2s 6ms/step - loss: 0.3637 - accuracy: 0.8751 - val_loss: 0.2828 - val_accuracy: 0.8964\n",
            "Epoch 3/50\n",
            "375/375 [==============================] - 2s 6ms/step - loss: 0.3221 - accuracy: 0.8886 - val_loss: 0.2612 - val_accuracy: 0.9054\n",
            "Epoch 4/50\n",
            "375/375 [==============================] - 2s 5ms/step - loss: 0.3010 - accuracy: 0.8957 - val_loss: 0.2496 - val_accuracy: 0.9079\n",
            "Epoch 5/50\n",
            "375/375 [==============================] - 2s 5ms/step - loss: 0.2741 - accuracy: 0.9034 - val_loss: 0.2433 - val_accuracy: 0.9117\n",
            "Epoch 6/50\n",
            "375/375 [==============================] - 2s 5ms/step - loss: 0.2583 - accuracy: 0.9095 - val_loss: 0.2403 - val_accuracy: 0.9154\n",
            "Epoch 7/50\n",
            "375/375 [==============================] - 2s 5ms/step - loss: 0.2480 - accuracy: 0.9135 - val_loss: 0.2395 - val_accuracy: 0.9146\n",
            "Epoch 8/50\n",
            "375/375 [==============================] - 2s 5ms/step - loss: 0.2306 - accuracy: 0.9177 - val_loss: 0.2385 - val_accuracy: 0.9162\n",
            "Epoch 9/50\n",
            "375/375 [==============================] - 2s 5ms/step - loss: 0.2287 - accuracy: 0.9203 - val_loss: 0.2367 - val_accuracy: 0.9153\n",
            "Epoch 10/50\n",
            "375/375 [==============================] - 2s 5ms/step - loss: 0.2166 - accuracy: 0.9245 - val_loss: 0.2392 - val_accuracy: 0.9153\n",
            "Epoch 11/50\n",
            "375/375 [==============================] - 2s 5ms/step - loss: 0.2064 - accuracy: 0.9275 - val_loss: 0.2423 - val_accuracy: 0.9139\n",
            "Epoch 12/50\n",
            "375/375 [==============================] - 2s 5ms/step - loss: 0.1983 - accuracy: 0.9299 - val_loss: 0.2383 - val_accuracy: 0.9169\n",
            "Epoch 13/50\n",
            "375/375 [==============================] - 2s 5ms/step - loss: 0.1908 - accuracy: 0.9320 - val_loss: 0.2434 - val_accuracy: 0.9171\n",
            "Epoch 14/50\n",
            "375/375 [==============================] - 2s 5ms/step - loss: 0.1866 - accuracy: 0.9337 - val_loss: 0.2407 - val_accuracy: 0.9153\n",
            "Epoch 15/50\n",
            "375/375 [==============================] - 2s 5ms/step - loss: 0.1790 - accuracy: 0.9373 - val_loss: 0.2504 - val_accuracy: 0.9126\n",
            "Epoch 16/50\n",
            "375/375 [==============================] - 2s 5ms/step - loss: 0.1723 - accuracy: 0.9397 - val_loss: 0.2453 - val_accuracy: 0.9158\n",
            "Epoch 17/50\n",
            "375/375 [==============================] - 2s 5ms/step - loss: 0.1672 - accuracy: 0.9415 - val_loss: 0.2485 - val_accuracy: 0.9164\n",
            "Epoch 18/50\n",
            "375/375 [==============================] - 2s 5ms/step - loss: 0.1608 - accuracy: 0.9431 - val_loss: 0.2438 - val_accuracy: 0.9180\n",
            "Epoch 19/50\n",
            "375/375 [==============================] - 2s 5ms/step - loss: 0.1566 - accuracy: 0.9436 - val_loss: 0.2490 - val_accuracy: 0.9205\n",
            "Epoch 20/50\n",
            "375/375 [==============================] - 2s 5ms/step - loss: 0.1507 - accuracy: 0.9478 - val_loss: 0.2468 - val_accuracy: 0.9193\n",
            "Epoch 21/50\n",
            "375/375 [==============================] - 2s 5ms/step - loss: 0.1494 - accuracy: 0.9476 - val_loss: 0.2472 - val_accuracy: 0.9204\n",
            "Epoch 22/50\n",
            "375/375 [==============================] - 2s 5ms/step - loss: 0.1419 - accuracy: 0.9505 - val_loss: 0.2569 - val_accuracy: 0.9184\n",
            "Epoch 23/50\n",
            "375/375 [==============================] - 2s 5ms/step - loss: 0.1434 - accuracy: 0.9493 - val_loss: 0.2532 - val_accuracy: 0.9194\n",
            "Epoch 24/50\n",
            "375/375 [==============================] - 2s 5ms/step - loss: 0.1368 - accuracy: 0.9513 - val_loss: 0.2510 - val_accuracy: 0.9183\n",
            "Epoch 25/50\n",
            "375/375 [==============================] - 2s 5ms/step - loss: 0.1326 - accuracy: 0.9532 - val_loss: 0.2533 - val_accuracy: 0.9178\n",
            "Epoch 26/50\n",
            "375/375 [==============================] - 2s 5ms/step - loss: 0.1282 - accuracy: 0.9554 - val_loss: 0.2599 - val_accuracy: 0.9166\n",
            "Epoch 27/50\n",
            "375/375 [==============================] - 2s 5ms/step - loss: 0.1259 - accuracy: 0.9556 - val_loss: 0.2527 - val_accuracy: 0.9208\n",
            "Epoch 28/50\n",
            "375/375 [==============================] - 2s 5ms/step - loss: 0.1243 - accuracy: 0.9565 - val_loss: 0.2577 - val_accuracy: 0.9197\n",
            "Epoch 29/50\n",
            "375/375 [==============================] - 2s 6ms/step - loss: 0.1257 - accuracy: 0.9553 - val_loss: 0.2509 - val_accuracy: 0.9217\n",
            "Epoch 30/50\n",
            "375/375 [==============================] - 2s 5ms/step - loss: 0.1180 - accuracy: 0.9585 - val_loss: 0.2626 - val_accuracy: 0.9202\n",
            "Epoch 31/50\n",
            "375/375 [==============================] - 2s 5ms/step - loss: 0.1133 - accuracy: 0.9600 - val_loss: 0.2616 - val_accuracy: 0.9220\n",
            "Epoch 32/50\n",
            "375/375 [==============================] - 2s 6ms/step - loss: 0.1107 - accuracy: 0.9615 - val_loss: 0.2659 - val_accuracy: 0.9208\n",
            "Epoch 33/50\n",
            "375/375 [==============================] - 2s 6ms/step - loss: 0.1105 - accuracy: 0.9615 - val_loss: 0.2695 - val_accuracy: 0.9214\n",
            "Epoch 34/50\n",
            "375/375 [==============================] - 2s 6ms/step - loss: 0.1107 - accuracy: 0.9613 - val_loss: 0.2665 - val_accuracy: 0.9217\n",
            "Epoch 35/50\n",
            "375/375 [==============================] - 2s 6ms/step - loss: 0.1062 - accuracy: 0.9628 - val_loss: 0.2694 - val_accuracy: 0.9202\n",
            "Epoch 36/50\n",
            "375/375 [==============================] - 2s 6ms/step - loss: 0.1045 - accuracy: 0.9627 - val_loss: 0.2708 - val_accuracy: 0.9212\n",
            "Epoch 37/50\n",
            "375/375 [==============================] - 2s 5ms/step - loss: 0.1057 - accuracy: 0.9628 - val_loss: 0.2656 - val_accuracy: 0.9210\n",
            "Epoch 38/50\n",
            "375/375 [==============================] - 2s 5ms/step - loss: 0.0980 - accuracy: 0.9656 - val_loss: 0.2794 - val_accuracy: 0.9197\n",
            "Epoch 39/50\n",
            "375/375 [==============================] - 2s 5ms/step - loss: 0.1002 - accuracy: 0.9648 - val_loss: 0.2686 - val_accuracy: 0.9215\n",
            "Epoch 40/50\n",
            "375/375 [==============================] - 2s 5ms/step - loss: 0.0993 - accuracy: 0.9654 - val_loss: 0.2757 - val_accuracy: 0.9197\n",
            "Epoch 41/50\n",
            "375/375 [==============================] - 2s 5ms/step - loss: 0.0929 - accuracy: 0.9673 - val_loss: 0.2770 - val_accuracy: 0.9208\n",
            "Epoch 42/50\n",
            "375/375 [==============================] - 2s 5ms/step - loss: 0.0947 - accuracy: 0.9664 - val_loss: 0.2848 - val_accuracy: 0.9205\n",
            "Epoch 43/50\n",
            "375/375 [==============================] - 2s 5ms/step - loss: 0.0938 - accuracy: 0.9675 - val_loss: 0.2812 - val_accuracy: 0.9212\n",
            "Epoch 44/50\n",
            "375/375 [==============================] - 2s 5ms/step - loss: 0.0929 - accuracy: 0.9668 - val_loss: 0.2778 - val_accuracy: 0.9200\n",
            "Epoch 45/50\n",
            "375/375 [==============================] - 2s 5ms/step - loss: 0.0883 - accuracy: 0.9684 - val_loss: 0.2855 - val_accuracy: 0.9199\n",
            "Epoch 46/50\n",
            "375/375 [==============================] - 2s 5ms/step - loss: 0.0869 - accuracy: 0.9696 - val_loss: 0.2874 - val_accuracy: 0.9218\n",
            "Epoch 47/50\n",
            "375/375 [==============================] - 2s 5ms/step - loss: 0.0843 - accuracy: 0.9698 - val_loss: 0.2892 - val_accuracy: 0.9208\n",
            "Epoch 48/50\n",
            "375/375 [==============================] - 2s 5ms/step - loss: 0.0881 - accuracy: 0.9689 - val_loss: 0.2904 - val_accuracy: 0.9197\n",
            "Epoch 49/50\n",
            "375/375 [==============================] - 2s 5ms/step - loss: 0.0850 - accuracy: 0.9713 - val_loss: 0.2862 - val_accuracy: 0.9220\n",
            "Epoch 50/50\n",
            "375/375 [==============================] - 2s 5ms/step - loss: 0.0835 - accuracy: 0.9713 - val_loss: 0.2873 - val_accuracy: 0.9205\n"
          ],
          "name": "stdout"
        }
      ]
    },
    {
      "cell_type": "markdown",
      "metadata": {
        "id": "Q0cssset8rkG",
        "colab_type": "text"
      },
      "source": [
        "## Plots"
      ]
    },
    {
      "cell_type": "code",
      "metadata": {
        "colab_type": "code",
        "outputId": "80cea73e-0312-44be-b998-46faf103cef9",
        "id": "ii4DUg0z8iXF",
        "colab": {
          "base_uri": "https://localhost:8080/",
          "height": 714
        }
      },
      "source": [
        "accuracy = model_fitting.history['accuracy']\n",
        "val_accuracy = model_fitting.history['val_accuracy']\n",
        "\n",
        "loss = model_fitting.history['loss']\n",
        "val_loss = model_fitting.history['val_loss']\n",
        "\n",
        "epochs = range(len(accuracy))\n",
        "\n",
        "#########\n",
        "plt.figure(figsize=(12, 5))\n",
        "plt.plot(epochs, loss, 'b-', label='Training loss')\n",
        "plt.plot(epochs, val_loss, 'r-', label='Validation loss')\n",
        "plt.title('Training and Validation Loss VS Epochs', fontsize=15)\n",
        "plt.xlabel('Epochs', fontsize=15)\n",
        "plt.ylabel('Loss', fontsize=15)\n",
        "plt.legend()\n",
        "\n",
        "\n",
        "#########\n",
        "plt.figure(figsize=(12, 5))\n",
        "plt.plot(epochs, accuracy, 'b-', label='Training accuracy')\n",
        "plt.plot(epochs, val_accuracy, 'r-', label='Validation accuracy')\n",
        "plt.title('Training and Validation Accuracy VS Epochs', fontsize=15)\n",
        "plt.xlabel('Epochs', fontsize=15)\n",
        "plt.ylabel('Accuracy', fontsize=15)\n",
        "plt.legend()\n",
        "\n"
      ],
      "execution_count": 26,
      "outputs": [
        {
          "output_type": "execute_result",
          "data": {
            "text/plain": [
              "<matplotlib.legend.Legend at 0x7f4aa6083978>"
            ]
          },
          "metadata": {
            "tags": []
          },
          "execution_count": 26
        },
        {
          "output_type": "display_data",
          "data": {
            "image/png": "[encoded data removed]",
            "text/plain": [
              "<Figure size 864x360 with 1 Axes>"
            ]
          },
          "metadata": {
            "tags": [],
            "needs_background": "light"
          }
        },
        {
          "output_type": "display_data",
          "data": {
            "image/png": "[encoded data removed]",
            "text/plain": [
              "<Figure size 864x360 with 1 Axes>"
            ]
          },
          "metadata": {
            "tags": [],
            "needs_background": "light"
          }
        }
      ]
    },
    {
      "cell_type": "markdown",
      "metadata": {
        "id": "wlaZxPpD87we",
        "colab_type": "text"
      },
      "source": [
        "## Generate predictions on test dataset"
      ]
    },
    {
      "cell_type": "code",
      "metadata": {
        "colab_type": "code",
        "outputId": "74bd47db-d50e-4c30-e2e4-0425195de49a",
        "id": "5ARKW2dS8_lw",
        "colab": {
          "base_uri": "https://localhost:8080/",
          "height": 50
        }
      },
      "source": [
        "# Generate predictions \n",
        "\n",
        "predictions = conv_ae.predict(test_feat)\n",
        "\n",
        "predictions = np.argmax(predictions, axis=1)\n",
        "\n",
        "score = accuracy_score(test_lab, predictions)\n",
        "\n",
        "print(\"\\nThe accuracy of the Convolutional Autoencoder model is: \", score*100, \"%\")\n"
      ],
      "execution_count": 27,
      "outputs": [
        {
          "output_type": "stream",
          "text": [
            "\n",
            "The accuracy of the Convolutional Autoencoder model is:  92.71000000000001 %\n"
          ],
          "name": "stdout"
        }
      ]
    },
    {
      "cell_type": "markdown",
      "metadata": {
        "id": "2tVWJS08VWtf",
        "colab_type": "text"
      },
      "source": [
        "# Comparison Plots"
      ]
    },
    {
      "cell_type": "code",
      "metadata": {
        "id": "B3PusIgGVZRw",
        "colab_type": "code",
        "colab": {
          "base_uri": "https://localhost:8080/",
          "height": 574
        },
        "outputId": "8b72b8e6-9316-4931-8a05-fc1ef0791e15"
      },
      "source": [
        "methods = [\"Simple CNN\", \"Convolutional Autoencoder\"]\n",
        "accuracies = [0.9442, 0.9271]\n",
        "\n",
        "\n",
        "plt.figure(figsize=(5, 9))\n",
        "colors= ['blue', 'yellow']\n",
        "plt.bar(methods, accuracies, color=colors)\n",
        "plt.xlabel(\"CNN Architectures\", fontsize= '15')\n",
        "plt.ylabel(\"Accuracy Scores\", fontsize= '15')\n",
        "plt.title(\"CNN Architectures Vs Accuracies\", fontsize=15)\n",
        "\n",
        "for i in range(len(accuracies)):\n",
        "    plt.text( methods[i], accuracies[i], str(accuracies[i]), ha=\"center\", size=14)"
      ],
      "execution_count": 41,
      "outputs": [
        {
          "output_type": "display_data",
          "data": {
            "image/png": "[encoded data removed]",
            "text/plain": [
              "<Figure size 360x648 with 1 Axes>"
            ]
          },
          "metadata": {
            "tags": [],
            "needs_background": "light"
          }
        }
      ]
    }
  ]
}