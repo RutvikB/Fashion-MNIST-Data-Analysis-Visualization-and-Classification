{
  "nbformat": 4,
  "nbformat_minor": 0,
  "metadata": {
    "colab": {
      "name": "classical methods.ipynb",
      "provenance": [],
      "collapsed_sections": [],
      "toc_visible": true
    },
    "kernelspec": {
      "name": "python3",
      "display_name": "Python 3"
    }
  },
  "cells": [
    {
      "cell_type": "markdown",
      "metadata": {
        "id": "LQv9wFudUU9F",
        "colab_type": "text"
      },
      "source": [
        "# Import Libraries"
      ]
    },
    {
      "cell_type": "code",
      "metadata": {
        "id": "mnnXmazMUW5Q",
        "colab_type": "code",
        "colab": {
          "base_uri": "https://localhost:8080/",
          "height": 70
        },
        "outputId": "6243a0fd-7586-4e29-ac79-d92322d61181"
      },
      "source": [
        "import numpy as np\n",
        "import pandas as pd\n",
        "import pandas.testing as tm\n",
        "import matplotlib.pyplot as plt\n",
        "import seaborn as sns\n",
        "\n",
        "# preprocessing helpers\n",
        "from sklearn.decomposition import PCA\n",
        "from sklearn.model_selection import train_test_split\n",
        "\n",
        "# Modelling Helpers :\n",
        "from sklearn.preprocessing import Normalizer , scale\n",
        "from sklearn.model_selection import train_test_split\n",
        "from sklearn.metrics import confusion_matrix, classification_report, accuracy_score\n",
        "from sklearn.model_selection import GridSearchCV , KFold , cross_val_score\n",
        "from sklearn import model_selection\n",
        "from sklearn.metrics import roc_curve, auc, recall_score, precision_score, f1_score , roc_auc_score\n",
        "from sklearn.metrics import plot_roc_curve, plot_confusion_matrix, plot_precision_recall_curve\n",
        "from sklearn.multiclass import OneVsRestClassifier\n",
        "from sklearn.preprocessing import label_binarize\n",
        "\n",
        "#Classical classifiers\n",
        "from sklearn.svm import SVC\n",
        "from sklearn.neighbors import KNeighborsClassifier\n",
        "from sklearn.naive_bayes import GaussianNB\n",
        "from sklearn.ensemble import RandomForestClassifier, AdaBoostClassifier\n",
        "from sklearn.tree import DecisionTreeClassifier\n",
        "from sklearn.ensemble import VotingClassifier, ExtraTreesClassifier, StackingClassifier\n",
        "import xgboost as xgb\n",
        "from xgboost.sklearn import XGBClassifier\n",
        "\n",
        "import time"
      ],
      "execution_count": 4,
      "outputs": [
        {
          "output_type": "stream",
          "text": [
            "/usr/local/lib/python3.6/dist-packages/statsmodels/tools/_testing.py:19: FutureWarning: pandas.util.testing is deprecated. Use the functions in the public API at pandas.testing instead.\n",
            "  import pandas.util.testing as tm\n"
          ],
          "name": "stderr"
        }
      ]
    },
    {
      "cell_type": "markdown",
      "metadata": {
        "id": "myzOWEOQUyui",
        "colab_type": "text"
      },
      "source": [
        "# Load Datasets"
      ]
    },
    {
      "cell_type": "code",
      "metadata": {
        "id": "WqntTnPfmMxH",
        "colab_type": "code",
        "outputId": "ec60f1e9-bc7b-4477-d28f-dc3873a5a6eb",
        "colab": {
          "base_uri": "https://localhost:8080/",
          "height": 151
        }
      },
      "source": [
        "# Load Full Dataset\n",
        "\n",
        "train = pd.read_csv('drive/My Drive/RandomProjects/Fashion MNIST/fashion-mnist_train.csv')\n",
        "test = pd.read_csv('drive/My Drive/RandomProjects/Fashion MNIST/fashion-mnist_test.csv')\n",
        "\n",
        "df_train = train.copy()\n",
        "df_test = test.copy()\n",
        "\n",
        "print(\"Original Shape of Train Dataset:\", df_train.shape[0], 'X' , df_train.shape[1])\n",
        "print(\"Original Shape of Test Dataset:\", df_test.shape[0], 'X' , df_test.shape[1])\n",
        "\n",
        "# Seperate ID numbers and target features from train and test dataset\n",
        "\n",
        "train_feat = df_train.iloc[:, 1:]\n",
        "train_lab = df_train.label\n",
        "\n",
        "test_feat = df_test.iloc[:, 1:]\n",
        "test_lab = df_test.label\n",
        "\n",
        "\n",
        "print(\"\\nTrain Features:\", train_feat.shape[0], 'X' , train_feat.shape[1], '\\nTrain Labels:' , train_lab.shape[0], 'X 1')\n",
        "\n",
        "print(\"\\nTest Features:\", test_feat.shape[0], 'X' , test_feat.shape[1], '\\nTest Labels:' , test_lab.shape[0], 'X 1')\n",
        "\n",
        "\n"
      ],
      "execution_count": 3,
      "outputs": [
        {
          "output_type": "stream",
          "text": [
            "Original Shape of Train Dataset: 60000 X 785\n",
            "Original Shape of Test Dataset: 10000 X 785\n",
            "\n",
            "Train Features: 60000 X 784 \n",
            "Train Labels: 60000 X 1\n",
            "\n",
            "Test Features: 10000 X 784 \n",
            "Test Labels: 10000 X 1\n"
          ],
          "name": "stdout"
        }
      ]
    },
    {
      "cell_type": "markdown",
      "metadata": {
        "id": "S89emyavdd3C",
        "colab_type": "text"
      },
      "source": [
        "# Data Preprocessing"
      ]
    },
    {
      "cell_type": "markdown",
      "metadata": {
        "id": "8VQvTNr9C8aC",
        "colab_type": "text"
      },
      "source": [
        "## Normalize the dataset\n",
        "\n",
        "* Data samples need to be scaled down to [0,1] in order for Optimization Algorithms to work much faster. Here, we also acheive Zero Mean and Unit Variance.\n",
        "\n",
        "* Normalization is carried out as follows: \n",
        "> x = (x - min) / (max - min) ; Here min= 0 and max= 255"
      ]
    },
    {
      "cell_type": "code",
      "metadata": {
        "id": "pxNp7JkjfuKr",
        "colab_type": "code",
        "colab": {}
      },
      "source": [
        "# Normalize Full Train and Test Feature data\n",
        "\n",
        "train_feat = train_feat.astype(\"float32\")/255\n",
        "\n",
        "test_feat = test_feat.astype(\"float32\")/255"
      ],
      "execution_count": 0,
      "outputs": []
    },
    {
      "cell_type": "markdown",
      "metadata": {
        "id": "CaqkIRrXf8OW",
        "colab_type": "text"
      },
      "source": [
        "## Dimensionality Reduction using PCA\n",
        "\n",
        "* We will use Principal Component analysis as a Dimensionality reduction technique to reduce the no. of features. <br>\n",
        "* It is helpful to use a Dimensionality reduction technique before applying the data to (classical/ non-CNN based) machine learning algorithms as it significantly reduces computational cost and time."
      ]
    },
    {
      "cell_type": "code",
      "metadata": {
        "id": "GgstJAxcDFPR",
        "colab_type": "code",
        "outputId": "329a739a-f1d5-4394-eea3-50d3ccf7c6ba",
        "colab": {
          "base_uri": "https://localhost:8080/",
          "height": 67
        }
      },
      "source": [
        "# Apply PCA to train and test data\n",
        "\n",
        "pca = PCA().fit(train_feat)\n",
        "\n",
        "# PCA Transform on whole Train and Test Data \n",
        "train_pca = pca.transform(train_feat)\n",
        "test_pca = pca.transform(test_feat)\n",
        "\n",
        "# Select only first 15 pca components\n",
        "train_pca = train_pca[:, :20]\n",
        "test_pca = test_pca[:, :20]\n",
        "\n",
        "# Convert to Dataframes\n",
        "train_pca = pd.DataFrame(train_pca)\n",
        "test_pca = pd.DataFrame(test_pca)\n",
        "\n",
        "print(\"\\nShape of PCA transformed Train Data: \" , train_pca.shape[0], \"X\" ,  train_pca.shape[1] )\n",
        "print(\"Shape of PCA transformed Test Data: \" , test_pca.shape[0], \"X\" ,  test_pca.shape[1])\n"
      ],
      "execution_count": 5,
      "outputs": [
        {
          "output_type": "stream",
          "text": [
            "\n",
            "Shape of PCA transformed Train Data:  60000 X 20\n",
            "Shape of PCA transformed Test Data:  10000 X 20\n"
          ],
          "name": "stdout"
        }
      ]
    },
    {
      "cell_type": "markdown",
      "metadata": {
        "id": "2bFe9oKrNwQe",
        "colab_type": "text"
      },
      "source": [
        "## Truncate the Train Data for using GridSearchCV and Apply PCA"
      ]
    },
    {
      "cell_type": "code",
      "metadata": {
        "id": "5KV_Yv66Nvpe",
        "colab_type": "code",
        "outputId": "d028c608-3e8b-4283-8ce7-e23c9a3cafda",
        "colab": {
          "base_uri": "https://localhost:8080/",
          "height": 50
        }
      },
      "source": [
        "\n",
        "trunc_feat = train_pca[0:10000]\n",
        "\n",
        "print(\"Shape of Truncated Training data for using GridSearchCV is: \", trunc_feat.shape[0], \"X\" ,  trunc_feat.shape[1])\n",
        "\n",
        "trunc_lab =  train_lab[:10000]\n",
        "\n",
        "print(\"Shape of Truncated Training Labels is: \", trunc_lab.shape[0], \"X 1\" )\n"
      ],
      "execution_count": 6,
      "outputs": [
        {
          "output_type": "stream",
          "text": [
            "Shape of Truncated Training data for using GridSearchCV is:  10000 X 20\n",
            "Shape of Truncated Training Labels is:  10000 X 1\n"
          ],
          "name": "stdout"
        }
      ]
    },
    {
      "cell_type": "markdown",
      "metadata": {
        "id": "tlGgj4jLrHD4",
        "colab_type": "text"
      },
      "source": [
        "## Split Train Data into Train and Validation Datasets"
      ]
    },
    {
      "cell_type": "code",
      "metadata": {
        "id": "cA3Ksz3frMvZ",
        "colab_type": "code",
        "colab": {}
      },
      "source": [
        "x_train, x_val, y_train, y_val = train_test_split(train_pca, train_lab, test_size=0.2, random_state=42)"
      ],
      "execution_count": 0,
      "outputs": []
    },
    {
      "cell_type": "markdown",
      "metadata": {
        "id": "Ms4_7nlpLAQ0",
        "colab_type": "text"
      },
      "source": [
        "# Classification Models"
      ]
    },
    {
      "cell_type": "markdown",
      "metadata": {
        "id": "7Fq8W8XWLD9F",
        "colab_type": "text"
      },
      "source": [
        "## 1. Support Vector Machine Classifier"
      ]
    },
    {
      "cell_type": "code",
      "metadata": {
        "id": "QTxcUOylGtAB",
        "colab_type": "code",
        "outputId": "d5845298-f5da-453e-a222-264e3ee6be46",
        "colab": {
          "base_uri": "https://localhost:8080/",
          "height": 168
        }
      },
      "source": [
        "# Implement SVC for C=50 on Full Train Data\n",
        "\n",
        "svm_clf = SVC(C=50, kernel='rbf', random_state=42)\n",
        "\n",
        "print(\"\\n Applying SVM Classifier ... \\n\")\n",
        "\n",
        "start = time.time()\n",
        "svm_clf.fit(train_pca, train_lab)\n",
        "end = time.time()\n",
        "\n",
        "print(\"\\n Finished applying SVM Classifier ... \\n\")\n",
        "\n",
        "svm_runtime = (end - start)/60\n",
        "\n",
        "svm_preds = svm_clf.predict(test_pca) \n",
        "svm_test_score = accuracy_score(test_lab, svm_preds)\n",
        "\n",
        "print(\"\\nThe accuracy of SVM classifier on test data is:\", svm_test_score*100 , \"%\")\n",
        "print(\"SVM Classifier Training Runtime: \", svm_runtime , 'mins' )\n"
      ],
      "execution_count": 8,
      "outputs": [
        {
          "output_type": "stream",
          "text": [
            "\n",
            " Applying SVM Classifier ... \n",
            "\n",
            "\n",
            " Finished applying SVM Classifier ... \n",
            "\n",
            "\n",
            "The accuracy of SVM classifier on test data is: 88.14 %\n",
            "SVM Classifier Training Runtime:  0.9278814196586609 mins\n"
          ],
          "name": "stdout"
        }
      ]
    },
    {
      "cell_type": "markdown",
      "metadata": {
        "id": "gLh6GYWAu_Wg",
        "colab_type": "text"
      },
      "source": [
        "## 2. K-Nearest Neighbors Classifier"
      ]
    },
    {
      "cell_type": "code",
      "metadata": {
        "colab_type": "code",
        "outputId": "aaf48568-59c6-40d3-8585-b43c7744d5bb",
        "id": "H3DAmTNivGce",
        "colab": {
          "base_uri": "https://localhost:8080/",
          "height": 151
        }
      },
      "source": [
        "# Implement KNN on Full Train Data\n",
        "\n",
        "knn_clf = KNeighborsClassifier(n_neighbors=5, weights= 'distance', metric='euclidean')\n",
        "\n",
        "print(\"\\nApplying KNN Classifier ... \\n\")\n",
        "\n",
        "start = time.time()\n",
        "knn_clf.fit(train_pca, train_lab)\n",
        "end = time.time()\n",
        "\n",
        "print(\"Finished applying KNN Classifier ... \\n\")\n",
        "\n",
        "knn_runtime = (end - start)/60\n",
        "\n",
        "knn_preds = knn_clf.predict(test_pca) \n",
        "knn_test_score = accuracy_score(test_lab, knn_preds)\n",
        "\n",
        "print(\"\\nThe accuracy of KNN classifier on test data is:\", knn_test_score*100 , \"%\")\n",
        "print(\"KNN Classifier Training Runtime: \", knn_runtime , 'mins' )\n"
      ],
      "execution_count": 9,
      "outputs": [
        {
          "output_type": "stream",
          "text": [
            "\n",
            "Applying KNN Classifier ... \n",
            "\n",
            "Finished applying KNN Classifier ... \n",
            "\n",
            "\n",
            "The accuracy of KNN classifier on test data is: 85.0 %\n",
            "KNN Classifier Training Runtime:  0.003636455535888672 mins\n"
          ],
          "name": "stdout"
        }
      ]
    },
    {
      "cell_type": "markdown",
      "metadata": {
        "id": "FLQIGWc-zaxk",
        "colab_type": "text"
      },
      "source": [
        "## 3. Gaussian Naive Bayes Classifier"
      ]
    },
    {
      "cell_type": "code",
      "metadata": {
        "colab_type": "code",
        "outputId": "da6a9247-9880-4a0b-a79f-8eb5d182d139",
        "id": "l_akCxYLzufp",
        "colab": {
          "base_uri": "https://localhost:8080/",
          "height": 151
        }
      },
      "source": [
        "# Implement Gaussian Naive Bayes Classifier on Full Train Data\n",
        "\n",
        "gnb_clf = GaussianNB()\n",
        "\n",
        "print(\"\\nApplying Gaussian Naive Bayes Classifier Classifier ... \\n\")\n",
        "\n",
        "start = time.time()\n",
        "gnb_clf.fit(train_pca, train_lab)\n",
        "end = time.time()\n",
        "\n",
        "print(\"Finished applying Gaussian Naive Bayes Classifier Classifier ... \\n\")\n",
        "\n",
        "gnb_runtime = (end - start)/60\n",
        "\n",
        "gnb_preds = gnb_clf.predict(test_pca) \n",
        "gnb_test_score = accuracy_score(test_lab, gnb_preds)\n",
        "\n",
        "print(\"\\nThe accuracy of Gaussian Naive Bayes Classifier classifier on test data is:\", gnb_test_score*100 , \"%\")\n",
        "print(\"Gaussian Naive Bayes Classifier Classifier Training Runtime: \", gnb_runtime , 'mins' )\n"
      ],
      "execution_count": 10,
      "outputs": [
        {
          "output_type": "stream",
          "text": [
            "\n",
            "Applying Gaussian Naive Bayes Classifier Classifier ... \n",
            "\n",
            "Finished applying Gaussian Naive Bayes Classifier Classifier ... \n",
            "\n",
            "\n",
            "The accuracy of Gaussian Naive Bayes Classifier classifier on test data is: 74.64 %\n",
            "Gaussian Naive Bayes Classifier Classifier Training Runtime:  0.0005635261535644531 mins\n"
          ],
          "name": "stdout"
        }
      ]
    },
    {
      "cell_type": "markdown",
      "metadata": {
        "id": "0IojcBkf0Vi_",
        "colab_type": "text"
      },
      "source": [
        "## 4. Decision Tree Classifier"
      ]
    },
    {
      "cell_type": "code",
      "metadata": {
        "colab_type": "code",
        "outputId": "ceb8232d-ff8b-4617-8e78-0e0e1e1ea39a",
        "id": "SjCX_lWa0edc",
        "colab": {
          "base_uri": "https://localhost:8080/",
          "height": 151
        }
      },
      "source": [
        "# Implement Decision Trees Classifier on Full Train Data\n",
        "\n",
        "dt_clf = DecisionTreeClassifier(criterion= 'entropy', max_depth=100, random_state=42)\n",
        "\n",
        "print(\"\\nApplying Decision Trees Classifier ... \\n\")\n",
        "\n",
        "start = time.time()\n",
        "dt_clf.fit(train_pca, train_lab)\n",
        "end = time.time()\n",
        "\n",
        "print(\"Finished applying Decision Trees Classifier ... \\n\")\n",
        "\n",
        "dt_runtime = (end - start)/60\n",
        "\n",
        "dt_preds = dt_clf.predict(test_pca) \n",
        "dt_test_score = accuracy_score(test_lab, dt_preds)\n",
        "\n",
        "print(\"\\nThe accuracy of Decision Trees Classifier on test data is:\", dt_test_score*100 , \"%\")\n",
        "print(\"Decision Trees Classifier Training Runtime: \", dt_runtime , 'mins' )\n"
      ],
      "execution_count": 14,
      "outputs": [
        {
          "output_type": "stream",
          "text": [
            "\n",
            "Applying Decision Trees Classifier ... \n",
            "\n",
            "Finished applying Decision Trees Classifier ... \n",
            "\n",
            "\n",
            "The accuracy of Decision Trees Classifier on test data is: 78.10000000000001 %\n",
            "Decision Trees Classifier Training Runtime:  0.11626642942428589 mins\n"
          ],
          "name": "stdout"
        }
      ]
    },
    {
      "cell_type": "markdown",
      "metadata": {
        "id": "ohu8pA7604zE",
        "colab_type": "text"
      },
      "source": [
        "## 5. Random Forest Classifier"
      ]
    },
    {
      "cell_type": "code",
      "metadata": {
        "colab_type": "code",
        "outputId": "6a308cc7-5f24-4400-e89b-5dbf92dffbf3",
        "id": "NhI-AXDY1ECd",
        "colab": {
          "base_uri": "https://localhost:8080/",
          "height": 151
        }
      },
      "source": [
        "# Implement Random Forest Classifier on Full Train Data\n",
        "\n",
        "rf_clf = RandomForestClassifier(n_estimators= 700 , criterion='entropy', random_state= 42)\n",
        "\n",
        "print(\"\\nApplying Random Forest Classifier  ... \\n\")\n",
        "\n",
        "start = time.time()\n",
        "rf_clf.fit(train_pca, train_lab)\n",
        "end = time.time()\n",
        "\n",
        "print(\"Finished applying Random Forest Classifier ... \\n\")\n",
        "\n",
        "rf_runtime = (end - start)/60\n",
        "\n",
        "rf_preds = rf_clf.predict(test_pca) \n",
        "rf_test_score = accuracy_score(test_lab, rf_preds)\n",
        "\n",
        "print(\"\\nThe accuracy of Random Forest Classifier on test data is:\", rf_test_score*100 , \"%\")\n",
        "print(\"Random Forest Classifier Training Runtime: \", rf_runtime , 'mins' )\n"
      ],
      "execution_count": 15,
      "outputs": [
        {
          "output_type": "stream",
          "text": [
            "\n",
            "Applying Random Forest Classifier  ... \n",
            "\n",
            "Finished applying Random Forest Classifier ... \n",
            "\n",
            "\n",
            "The accuracy of Random Forest Classifier on test data is: 85.99 %\n",
            "Random Forest Classifier Training Runtime:  11.32150129477183 mins\n"
          ],
          "name": "stdout"
        }
      ]
    },
    {
      "cell_type": "markdown",
      "metadata": {
        "id": "TsbEZRl01gBV",
        "colab_type": "text"
      },
      "source": [
        "## 6. XGBoost Classifier"
      ]
    },
    {
      "cell_type": "code",
      "metadata": {
        "colab_type": "code",
        "outputId": "2088601d-9e4c-4c69-b2fb-9289ee915f8f",
        "id": "6QGlPILX5fOa",
        "colab": {
          "base_uri": "https://localhost:8080/",
          "height": 151
        }
      },
      "source": [
        "# Implement XGBoost Classifier on Full Train Data\n",
        "\n",
        "xgb_clf = XGBClassifier(max_depth=100, learning_rate=0.1, n_estimators= 550, random_state=42)\n",
        "\n",
        "print(\"\\nApplying XGBoost Classifier ... \\n\")\n",
        "\n",
        "start = time.time()\n",
        "xgb_clf.fit(train_pca, train_lab)\n",
        "end = time.time()\n",
        "\n",
        "print(\"Finished applying XGBoost Classifier ... \\n\")\n",
        "\n",
        "xgb_runtime = (end - start)/60\n",
        "\n",
        "xgb_preds = xgb_clf.predict(test_pca) \n",
        "xgb_test_score = accuracy_score(test_lab, xgb_preds)\n",
        "\n",
        "print(\"\\nThe accuracy of XGBoost classifier on test data is:\", xgb_test_score*100 , \"%\")\n",
        "print(\"XGBoost Classifier Training Runtime: \", xgb_runtime , 'mins' )\n"
      ],
      "execution_count": 16,
      "outputs": [
        {
          "output_type": "stream",
          "text": [
            "\n",
            "Applying XGBoost Classifier ... \n",
            "\n",
            "Finished applying XGBoost Classifier ... \n",
            "\n",
            "\n",
            "The accuracy of XGBoost classifier on test data is: 87.38 %\n",
            "XGBoost Classifier Training Runtime:  27.76707145770391 mins\n"
          ],
          "name": "stdout"
        }
      ]
    },
    {
      "cell_type": "markdown",
      "metadata": {
        "id": "ifSWzdTByFBL",
        "colab_type": "text"
      },
      "source": [
        "## 7. Ensemble Method: Boosting"
      ]
    },
    {
      "cell_type": "code",
      "metadata": {
        "colab_type": "code",
        "outputId": "07c79cd6-26a1-422b-8476-6bc637e1bfae",
        "id": "tEfbPhUEyYdG",
        "colab": {
          "base_uri": "https://localhost:8080/",
          "height": 151
        }
      },
      "source": [
        "cart = RandomForestClassifier(n_estimators=550, criterion= 'entropy', random_state=42)\n",
        "\n",
        "adb_clf = AdaBoostClassifier(base_estimator=cart, n_estimators=100, learning_rate=0.1, random_state=42)\n",
        "\n",
        "print(\"\\n Applying AdaBoost Classifier ... \\n\")\n",
        "\n",
        "start = time.time()\n",
        "adb_clf.fit(train_pca, train_lab)\n",
        "end = time.time()\n",
        "\n",
        "print(\"Finished applying AdaBoost Classifier ... \\n\")\n",
        "\n",
        "adb_runtime = (end - start)/60\n",
        "\n",
        "adb_preds = adb_clf.predict(test_pca) \n",
        "adb_test_score = accuracy_score(test_lab, adb_preds)\n",
        "\n",
        "print(\"\\nThe accuracy of AdaBoost classifier on test data is:\", adb_test_score*100 , \"%\")\n",
        "print(\"AdaBoost Classifier Training Runtime: \", adb_runtime , 'mins' )\n"
      ],
      "execution_count": 21,
      "outputs": [
        {
          "output_type": "stream",
          "text": [
            "\n",
            " Applying AdaBoost Classifier ... \n",
            "\n",
            "Finished applying AdaBoost Classifier ... \n",
            "\n",
            "\n",
            "The accuracy of AdaBoost classifier on test data is: 86.04 %\n",
            "AdaBoost Classifier Training Runtime:  9.791364550590515 mins\n"
          ],
          "name": "stdout"
        }
      ]
    },
    {
      "cell_type": "markdown",
      "metadata": {
        "id": "RaxDpXuAyPhJ",
        "colab_type": "text"
      },
      "source": [
        "## 8. Ensemble Method: Stacking"
      ]
    },
    {
      "cell_type": "code",
      "metadata": {
        "id": "ql4FxfPDzP6V",
        "colab_type": "code",
        "colab": {
          "base_uri": "https://localhost:8080/",
          "height": 151
        },
        "outputId": "61bf7b23-7123-487d-ab42-5bf425695a1f"
      },
      "source": [
        "# Implement Stacking on Full Train Data\n",
        "\n",
        "clf1 = XGBClassifier(max_depth=100, learning_rate=0.1, n_estimators= 550, random_state=42)\n",
        "clf2 = RandomForestClassifier(n_estimators=700, random_state=42, criterion='entropy')\n",
        "clf3 = SVC(kernel = 'rbf', C=50, random_state= 42)\n",
        "clf4 = KNeighborsClassifier(n_neighbors=5, weights= 'distance', metric='euclidean')\n",
        "\n",
        "est = [('rf', clf2), ('svc', clf3), ('knn', clf4)]\n",
        "\n",
        "stk_clf = StackingClassifier(estimators= est, final_estimator= clf1)\n",
        "\n",
        "print(\"\\n Applying Stacking Classifier ... \\n\")\n",
        "start = time.time()\n",
        "stk_clf.fit(train_pca, train_lab)\n",
        "end = time.time()\n",
        "\n",
        "print(\"Finished applying Stacking Classifier ... \\n\")\n",
        "\n",
        "stk_runtime = (end - start)/60\n",
        "\n",
        "stk_preds = stk_clf.predict(test_pca) \n",
        "stk_test_score = accuracy_score(test_lab, stk_preds)\n",
        "\n",
        "print(\"\\nThe accuracy of Stacking classifier on test data is:\", stk_test_score*100 , \"%\")\n",
        "print(\"Stacking Classifier Training Runtime: \", stk_runtime , 'mins' )"
      ],
      "execution_count": 18,
      "outputs": [
        {
          "output_type": "stream",
          "text": [
            "\n",
            " Applying Stacking Classifier ... \n",
            "\n",
            "Finished applying Stacking Classifier ... \n",
            "\n",
            "\n",
            "The accuracy of Stacking classifier on test data is: 88.23 %\n",
            "Stacking Classifier Training Runtime:  86.37817047039668 mins\n"
          ],
          "name": "stdout"
        }
      ]
    },
    {
      "cell_type": "markdown",
      "metadata": {
        "id": "Ow0LGSSRySWs",
        "colab_type": "text"
      },
      "source": [
        "## 9. Ensemble Method: Voting"
      ]
    },
    {
      "cell_type": "code",
      "metadata": {
        "colab_type": "code",
        "id": "FfbXM9eG4DAt",
        "colab": {
          "base_uri": "https://localhost:8080/",
          "height": 151
        },
        "outputId": "5e421c69-02a8-4bd2-c305-33922ff12cff"
      },
      "source": [
        "# Implement Voting on Full Train Data\n",
        "\n",
        "clf1 = XGBClassifier(max_depth=100, learning_rate=0.1, n_estimators= 550, random_state=42)\n",
        "clf2 = RandomForestClassifier(n_estimators=700, random_state=42, criterion='entropy')\n",
        "clf3 = SVC(kernel = 'rbf', C=50, random_state= 42)\n",
        "clf4 = KNeighborsClassifier(n_neighbors=5, weights= 'distance', metric='euclidean')\n",
        "clf5 = ExtraTreesClassifier(n_estimators=550, criterion='entropy', random_state=42)\n",
        "\n",
        "\n",
        "est = [('xgb', clf1), ('rf', clf2), ('svc', clf3), ('knn', clf4), ('ext', clf5)]\n",
        "\n",
        "vot_clf = VotingClassifier(estimators= est, voting='hard', flatten_transform=True, weights= [1,1,1,1,1])\n",
        "\n",
        "print(\"\\n Applying Voting Classifier ... \\n\")\n",
        "start = time.time()\n",
        "vot_clf.fit(train_pca, train_lab)\n",
        "end = time.time()\n",
        "\n",
        "print(\"Finished applying Voting Classifier ... \\n\")\n",
        "\n",
        "vot_runtime = (end - start)/60\n",
        "\n",
        "vot_preds = vot_clf.predict(test_pca) \n",
        "vot_test_score = accuracy_score(test_lab, vot_preds)\n",
        "\n",
        "print(\"\\nThe accuracy of Voting classifier on test data is:\", vot_test_score*100 , \"%\")\n",
        "print(\"Voting Classifier Training Runtime: \", vot_runtime , 'mins' )"
      ],
      "execution_count": 19,
      "outputs": [
        {
          "output_type": "stream",
          "text": [
            "\n",
            " Applying Voting Classifier ... \n",
            "\n",
            "Finished applying Voting Classifier ... \n",
            "\n",
            "\n",
            "The accuracy of Voting classifier on test data is: 86.65 %\n",
            "Voting Classifier Training Runtime:  41.792180919647215 mins\n"
          ],
          "name": "stdout"
        }
      ]
    },
    {
      "cell_type": "markdown",
      "metadata": {
        "id": "r17Fwm8rxzky",
        "colab_type": "text"
      },
      "source": [
        "# Comparison Plots"
      ]
    },
    {
      "cell_type": "code",
      "metadata": {
        "id": "HQrUewhJf_MH",
        "colab_type": "code",
        "colab": {}
      },
      "source": [
        "classifiers = ['SVM', \"KNN\", 'Gaussian NB', 'Decision Trees', 'Random Forest', 'XGBoost', 'AdaBoost', 'Stacking', 'Voting']\n",
        "\n",
        "runtimes = [svm_runtime, knn_runtime, gnb_runtime, dt_runtime, rf_runtime, xgb_runtime, adb_runtime, stk_runtime, vot_runtime]\n",
        "\n",
        "scores = [svm_test_score, knn_test_score, gnb_test_score, dt_test_score, rf_test_score, xgb_test_score, adb_test_score, stk_test_score, vot_test_score]\n",
        "\n"
      ],
      "execution_count": 0,
      "outputs": []
    },
    {
      "cell_type": "code",
      "metadata": {
        "id": "c2L1nTlPgk1s",
        "colab_type": "code",
        "outputId": "7d887ed0-c38f-4333-ac54-4e2f82af0e09",
        "colab": {
          "base_uri": "https://localhost:8080/",
          "height": 465
        }
      },
      "source": [
        "plt.figure(figsize=(16,7))\n",
        "colors= ['black', 'red', 'green', 'blue', 'cyan', 'yellow', 'pink', 'orange', 'brown']\n",
        "plt.bar(classifiers, scores, color=colors)\n",
        "plt.xlabel(\"Classifiers\", fontsize= '15')\n",
        "plt.ylabel(\"Accuracy Score\", fontsize= '15')\n",
        "plt.title(\"Classifier Accuracies\", fontsize=15)\n",
        "\n",
        "for i in range(len(scores)):\n",
        "    plt.text( classifiers[i], scores[i], str(scores[i]), ha=\"center\", size=14)"
      ],
      "execution_count": 18,
      "outputs": [
        {
          "output_type": "display_data",
          "data": {
            "image/png": "[encoded data removed]",
            "text/plain": [
              "<Figure size 1152x504 with 1 Axes>"
            ]
          },
          "metadata": {
            "tags": [],
            "needs_background": "light"
          }
        }
      ]
    },
    {
      "cell_type": "code",
      "metadata": {
        "id": "fS03Now6j9U-",
        "colab_type": "code",
        "colab": {
          "base_uri": "https://localhost:8080/",
          "height": 465
        },
        "outputId": "ea0a6301-898a-4647-90d2-a19d741e6d0b"
      },
      "source": [
        "plt.figure(figsize=(16,7))\n",
        "colors= ['black', 'red', 'green', 'blue', 'cyan', 'yellow', 'pink', 'orange', 'brown']\n",
        "plt.barh(classifiers, runtimes, color=colors)\n",
        "plt.xlabel(\"Time in minutes\", fontsize= '15')\n",
        "plt.ylabel(\"Classifiers\", fontsize= '15')\n",
        "plt.title(\"Classifier Runtimes\", fontsize=15)\n",
        "\n",
        "for i in range(len(scores)):\n",
        "    plt.text( runtimes[i], classifiers[i], str(runtimes[i]), va=\"center\", size=14)"
      ],
      "execution_count": 22,
      "outputs": [
        {
          "output_type": "display_data",
          "data": {
            "image/png": "[encoded data removed]",
            "text/plain": [
              "<Figure size 1152x504 with 1 Axes>"
            ]
          },
          "metadata": {
            "tags": [],
            "needs_background": "light"
          }
        }
      ]
    }
  ]
}